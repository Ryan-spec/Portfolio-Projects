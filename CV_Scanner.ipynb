{
  "nbformat": 4,
  "nbformat_minor": 0,
  "metadata": {
    "colab": {
      "name": "CV Scanner.ipynb",
      "provenance": [],
      "authorship_tag": "ABX9TyPrwMrQuId6hlCSMqOhERlS",
      "include_colab_link": true
    },
    "kernelspec": {
      "name": "python3",
      "display_name": "Python 3"
    }
  },
  "cells": [
    {
      "cell_type": "markdown",
      "metadata": {
        "id": "view-in-github",
        "colab_type": "text"
      },
      "source": [
        "<a href=\"https://colab.research.google.com/github/Ryan-spec/Portfolio-Projects/blob/master/CV_Scanner.ipynb\" target=\"_parent\"><img src=\"https://colab.research.google.com/assets/colab-badge.svg\" alt=\"Open In Colab\"/></a>"
      ]
    },
    {
      "cell_type": "markdown",
      "metadata": {
        "id": "3fDA2E_PX9ji",
        "colab_type": "text"
      },
      "source": [
        "# **Create a Program to See How Similar a CV Is to A Job Description**\n",
        "\n",
        "---\n",
        "\n"
      ]
    },
    {
      "cell_type": "code",
      "metadata": {
        "id": "0XMaSBOCXxvB",
        "colab_type": "code",
        "colab": {
          "base_uri": "https://localhost:8080/",
          "height": 193
        },
        "outputId": "9264b826-27bd-4ff9-bd09-ce95fbdf4c33"
      },
      "source": [
        "# Install the docx2txt package \n",
        "!pip install docx2txt"
      ],
      "execution_count": 1,
      "outputs": [
        {
          "output_type": "stream",
          "text": [
            "Collecting docx2txt\n",
            "  Downloading https://files.pythonhosted.org/packages/7d/7d/60ee3f2b16d9bfdfa72e8599470a2c1a5b759cb113c6fe1006be28359327/docx2txt-0.8.tar.gz\n",
            "Building wheels for collected packages: docx2txt\n",
            "  Building wheel for docx2txt (setup.py) ... \u001b[?25l\u001b[?25hdone\n",
            "  Created wheel for docx2txt: filename=docx2txt-0.8-cp36-none-any.whl size=3963 sha256=1857d7505a420a41cafdd14569635c4d26ca9f2fb533a3195f903d5124a11008\n",
            "  Stored in directory: /root/.cache/pip/wheels/b2/1f/26/a051209bbb77fc6bcfae2bb7e01fa0ff941b82292ab084d596\n",
            "Successfully built docx2txt\n",
            "Installing collected packages: docx2txt\n",
            "Successfully installed docx2txt-0.8\n"
          ],
          "name": "stdout"
        }
      ]
    },
    {
      "cell_type": "code",
      "metadata": {
        "id": "ZRiTLCBeZAll",
        "colab_type": "code",
        "colab": {}
      },
      "source": [
        "# Import the library\n",
        "import docx2txt"
      ],
      "execution_count": 2,
      "outputs": []
    },
    {
      "cell_type": "code",
      "metadata": {
        "id": "xh_hv8JRZQ5_",
        "colab_type": "code",
        "colab": {
          "resources": {
            "http://localhost:8080/nbextensions/google.colab/files.js": {
              "data": "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",
              "ok": true,
              "headers": [
                [
                  "content-type",
                  "application/javascript"
                ]
              ],
              "status": 200,
              "status_text": ""
            }
          },
          "base_uri": "https://localhost:8080/",
          "height": 108
        },
        "outputId": "144f48f0-1acd-48e2-8879-c6059e764114"
      },
      "source": [
        "# Load the data \n",
        "from google.colab import files\n",
        "uploaded = files.upload()"
      ],
      "execution_count": 10,
      "outputs": [
        {
          "output_type": "display_data",
          "data": {
            "text/html": [
              "\n",
              "     <input type=\"file\" id=\"files-db28472f-c777-4ade-93b1-2d9412feeeed\" name=\"files[]\" multiple disabled\n",
              "        style=\"border:none\" />\n",
              "     <output id=\"result-db28472f-c777-4ade-93b1-2d9412feeeed\">\n",
              "      Upload widget is only available when the cell has been executed in the\n",
              "      current browser session. Please rerun this cell to enable.\n",
              "      </output>\n",
              "      <script src=\"/nbextensions/google.colab/files.js\"></script> "
            ],
            "text/plain": [
              "<IPython.core.display.HTML object>"
            ]
          },
          "metadata": {
            "tags": []
          }
        },
        {
          "output_type": "stream",
          "text": [
            "Saving Portfolio.docx to Portfolio (1).docx\n",
            "Saving Sample Job Description.docx to Sample Job Description (1).docx\n"
          ],
          "name": "stdout"
        }
      ]
    },
    {
      "cell_type": "code",
      "metadata": {
        "id": "lfr1dW6_cjJ2",
        "colab_type": "code",
        "colab": {
          "base_uri": "https://localhost:8080/",
          "height": 1000
        },
        "outputId": "eb0d5f48-a6af-4046-9869-bdc0c6f33d91"
      },
      "source": [
        "# Store the Resume in a variable \n",
        "resume = docx2txt.process('Portfolio.docx')\n",
        "\n",
        "# Print the resume \n",
        "print(resume)"
      ],
      "execution_count": 11,
      "outputs": [
        {
          "output_type": "stream",
          "text": [
            "Portfolio\n",
            "\n",
            "Self-employed\n",
            "\n",
            "Java, Python, Ruby, Perl, R\n",
            "\n",
            "Groupon\n",
            "\n",
            "Java, Perl, Ruby, Ruby on Rails\n",
            "\n",
            "VideoGenie\n",
            "\n",
            "Java, Perl, Python, JavaScript\n",
            "\n",
            "Experience\n",
            "\n",
            "Mathematics20 years\n",
            "\n",
            "Statistics20 years\n",
            "\n",
            "Perl18 years\n",
            "\n",
            "Data Processing14 years\n",
            "\n",
            "SQL12 years\n",
            "\n",
            "A/B Testing10 years\n",
            "\n",
            "Analytics6 years\n",
            "\n",
            "Data Science6 years\n",
            "\n",
            "Location\n",
            "\n",
            "\n",
            "\n",
            "Availability\n",
            "\n",
            "Part-time\n",
            "\n",
            "Preferred Environment\n",
            "\n",
            "*nix, Git\n",
            "\n",
            "The most amazing...\n",
            "\n",
            "...feedback I've ever received is a user writing in to thank us for saving his life.\n",
            "\n",
            "Employment\n",
            "\n",
            "Data Science and Machine Learning Consultant\n",
            "\n",
            "2013 - PRESENT\n",
            "\n",
            "Self-employed\n",
            "\n",
            "Worked independently or with an established team, writing production code or mining offline data, I help companies crack their tough data-related problems.\n",
            "\n",
            "Defined and implemented a quality evaluation process for entity matching for Radius Intelligence. Designed, implemented, and launched an algorithm improvement to halve recall errors while keeping precision constant. Worked with the VP of Engineering and CTO to define and interview for a data science engineer position.\n",
            "\n",
            "Helped validate feasibility of a new line of business for Agari by building and evaluating a machine learning model. Bootstrapped a supervised classifier with unsupervised learning to overcome the absence of labeled data and data labeling resources.\n",
            "\n",
            "Defined and prototyped a provably fair advertising revenue attribution model for Sojern. Worked with the CTO to design an A/B testing framework.\n",
            "\n",
            "Improved a credit card fraud detection algorithm, saving Groupon over a million dollars annually by reducing false positives while keeping detection rates high.\n",
            "\n",
            "Technologies: Java, Python, Ruby, Perl, R\n",
            "\n",
            "Senior Engineering Manager\n",
            "\n",
            "2011 - 2012\n",
            "\n",
            "Groupon\n",
            "\n",
            "Worked with sales, city planning, engineering and data science to build a demand forecasting system.\n",
            "\n",
            "Built an email A/B testing framework and reduced outages due to setup errors from several a day to 0.\n",
            "\n",
            "Significantly increased revenue and user engagement by continuously delivering relevance and UI improvements.\n",
            "\n",
            "Technologies: Java, Perl, Ruby, Ruby on Rails\n",
            "\n",
            "VP of Engineering\n",
            "\n",
            "2010 - 2011\n",
            "\n",
            "VideoGenie\n",
            "\n",
            "Reported directly to the CEO as the first employee hired at a social video marketing startup.\n",
            "\n",
            "Hired and managed a team of back-end and front-end engineers.\n",
            "\n",
            "Helped grow the client list from two to over sixty and page views from a handful to several million a day.\n",
            "\n",
            "Worked with the Chief Architect to design and implement infrastructure, including fully customizable video recording, internationalization, analytics processing, video search, and smart playlist ranking.\n",
            "\n",
            "Technologies: Java, Perl, Python, JavaScript\n",
            "\n",
            "Lead Software Development Engineer\n",
            "\n",
            "2006 - 2009\n",
            "\n",
            "Tellme/Microsoft\n",
            "\n",
            "Managed the Search team, which generated about 40% of company revenue.\n",
            "\n",
            "Led architecture as well as managed and mentored engineers.\n",
            "\n",
            "Worked with the Live Search and MSR teams to incorporate Tellme technology into Microsoft Search and voice products.\n",
            "\n",
            "Worked with speech and linguistics teams to dramatically increase automation of voice calls and relevance of text search queries.\n",
            "\n",
            "Led design, development, and refinement of business category search.\n",
            "\n",
            "Awarded a patent for a new spelling correction algorithm.\n",
            "\n",
            "Developed algorithmic performance improvements that quadrupled back-end capacity while keeping relevance constant.\n",
            "\n",
            "Technologies: Perl, C, C++\n",
            "\n",
            "Technical Lead\n",
            "\n",
            "2005 - 2006\n",
            "\n",
            "Yahoo!\n",
            "\n",
            "Worked on contextual advertising, applying computational linguistics and machine learning techniques to the problem of finding relevant text ads to display on a webpage.\n",
            "\n",
            "Developed an innovative classification algorithm to detect pages on which it would be inappropriate to display ads.\n",
            "\n",
            "Technologies: Perl, Python, C, C++\n",
            "\n",
            "Experience\n",
            "\n",
            "Nanomid (Development)\n",
            "\n",
            "Simple text-based music representation language with tools to convert to MIDI format.\n",
            "\n",
            "Suite of tools to manipulate MIDI files, such as automatically generating piano reductions of full scores, changing instruments, cropping, and more.\n",
            "\n",
            "Skills\n",
            "\n",
            "Languages\n",
            "\n",
            "SQL, Perl, Java, Python, JavaScript, C++, C\n",
            "\n",
            "Frameworks\n",
            "\n",
            "Flutter\n",
            "\n",
            "Paradigms\n",
            "\n",
            "Data Science\n",
            "\n",
            "Other\n",
            "\n",
            "Software Developer, DevOps Engineer, A/B Testing, Machine Learning, Analytics, Data Processing, Statistics, Mathematics, Data Analysis, Data Engineering, Data Modeling, Data Analyst, NLP, Data Engineer, Data Modeling Expert, Natural Language Processing (NLP)\n",
            "\n",
            "Platforms\n",
            "\n",
            "Unix, Linux\n",
            "\n",
            "Storage\n",
            "\n",
            "PostgreSQL, MySQL, Vertica\n",
            "\n",
            "Education\n",
            "\n",
            "Master of Science degree in Computer Science\n",
            "\n",
            "2002 - 2004\n",
            "\n",
            "University of California - Santa Cruz\n",
            "\n",
            "Master of Science degree in Mathematics\n",
            "\n",
            "2000 - 2002\n",
            "\n",
            "University of Illinois - Urbana-Champaign\n"
          ],
          "name": "stdout"
        }
      ]
    },
    {
      "cell_type": "code",
      "metadata": {
        "id": "dbzv328xfG2l",
        "colab_type": "code",
        "colab": {
          "base_uri": "https://localhost:8080/",
          "height": 1000
        },
        "outputId": "dfe7057f-6534-4618-bce3-e6c316d971e7"
      },
      "source": [
        "# Store the job description into a variable\n",
        "job_description = docx2txt.process('Sample Job Description.docx')\n",
        "\n",
        "# Print the file\n",
        "print(job_description)"
      ],
      "execution_count": 12,
      "outputs": [
        {
          "output_type": "stream",
          "text": [
            "Company Introduction\n",
            "\n",
            "\n",
            "\n",
            "{{Write a short and catchy paragraph about your company. Make sure to provide information about the company culture, perks, and benefits. Mention office hours, remote working possibilities, and everything else you think makes your company interesting. Data scientists like to take challenges - anything that shows how the role could make an impact might help attract top talent.}}\n",
            "\n",
            "\n",
            "\n",
            "Job Description\n",
            "\n",
            "\n",
            "\n",
            "We are looking for a data scientist that will help us discover the information hidden in vast amounts of data, and help us make smarter decisions to deliver even better products. Your primary focus will be in applying data mining techniques, doing statistical analysis, and building high quality prediction systems integrated with our products. {{Depending on your needs, you can write very specific requirements here, like: “automate scoring using machine learning techniques”, “build recommendation systems”, “improve and extend the features used by our existing classifier”, “develop internal A/B testing procedures”, “build system for automated fraud detection”, etc.}}\n",
            "\n",
            "\n",
            "\n",
            "Responsibilities\n",
            "\n",
            "\n",
            "\n",
            "- Selecting features, building and optimizing classifiers using machine learning techniques\n",
            "\n",
            "- Data mining using state-of-the-art methods\n",
            "\n",
            "- Extending company’s data with third party sources of information when needed\n",
            "\n",
            "- Enhancing data collection procedures to include information that is relevant for building analytic systems\n",
            "\n",
            "- Processing, cleansing, and verifying the integrity of data used for analysis\n",
            "\n",
            "- Doing ad-hoc analysis and presenting results in a clear manner\n",
            "\n",
            "- Creating automated anomaly detection systems and constant tracking of its performance\n",
            "\n",
            "- {{Select from the above and add other responsibilities that are relevant}}\n",
            "\n",
            "\n",
            "\n",
            "Skills and Qualifications\n",
            "\n",
            "\n",
            "\n",
            "- Excellent understanding of machine learning techniques and algorithms, such as k-NN, Naive Bayes, SVM, Decision Forests, etc.\n",
            "\n",
            "- Experience with common data science toolkits, such as R, Weka, NumPy, MatLab, etc {{depending on specific project requirements}}. Excellence in at least one of these is highly desirable\n",
            "\n",
            "- Great communication skills\n",
            "\n",
            "- Experience with data visualisation tools, such as D3.js, GGplot, etc.\n",
            "\n",
            "- Proficiency in using query languages such as SQL, Hive, Pig {{actual list depends on what you are currently using in your company}}\n",
            "\n",
            "- Experience with NoSQL databases, such as MongoDB, Cassandra, HBase {{depending on project needs}}\n",
            "\n",
            "- Good applied statistics skills, such as distributions, statistical testing, regression, etc.\n",
            "\n",
            "- Good scripting and programming skills {{if you expect that the person in this role will integrate the solution within the base application, list any programming languages and core frameworks currently being used}}\n",
            "\n",
            "- Data-oriented personality\n",
            "\n",
            "- {{Mention any other technology that such person is going to commonly work with within the organization}}\n",
            "\n",
            "- {{List education level or certification you require}}\n"
          ],
          "name": "stdout"
        }
      ]
    },
    {
      "cell_type": "code",
      "metadata": {
        "id": "CiY_B0QYhdIu",
        "colab_type": "code",
        "colab": {}
      },
      "source": [
        "# Create a list of text\n",
        "text = [resume, job_description]\n"
      ],
      "execution_count": 13,
      "outputs": []
    },
    {
      "cell_type": "code",
      "metadata": {
        "id": "0z1GLlami7U5",
        "colab_type": "code",
        "colab": {}
      },
      "source": [
        "# Import a library to create a count-vector object to get a count of each word of text\n",
        "from sklearn.feature_extraction.text import CountVectorizer\n",
        "cv = CountVectorizer()\n",
        "count_matrix = cv.fit_transform(text)\n"
      ],
      "execution_count": 14,
      "outputs": []
    },
    {
      "cell_type": "code",
      "metadata": {
        "id": "gY1MuO2DjhDc",
        "colab_type": "code",
        "colab": {
          "base_uri": "https://localhost:8080/",
          "height": 87
        },
        "outputId": "28082fb5-a24f-4cff-9bc9-8702278cbd12"
      },
      "source": [
        "from sklearn.metrics.pairwise import cosine_similarity\n",
        "\n",
        "# Print the similarity scores\n",
        "print(\"\\nSimilarity Scores:\")\n",
        "print(cosine_similarity(count_matrix)) "
      ],
      "execution_count": 15,
      "outputs": [
        {
          "output_type": "stream",
          "text": [
            "\n",
            "Similarity Scores:\n",
            "[[1.         0.57254642]\n",
            " [0.57254642 1.        ]]\n"
          ],
          "name": "stdout"
        }
      ]
    },
    {
      "cell_type": "code",
      "metadata": {
        "id": "rLWemA_LkHhu",
        "colab_type": "code",
        "colab": {
          "base_uri": "https://localhost:8080/",
          "height": 35
        },
        "outputId": "9ffcbf6d-7ec8-4f5a-c0e8-1ac9ade89d12"
      },
      "source": [
        "# Get the match percentage \n",
        "matchPercentage = cosine_similarity(count_matrix)[0][1] * 100\n",
        "matchPercentage = round(matchPercentage, 2) # rounding to two decimal places\n",
        "print(\"Your CV matches around \" + str(matchPercentage) + \"% of the job description.\")"
      ],
      "execution_count": 17,
      "outputs": [
        {
          "output_type": "stream",
          "text": [
            "Your CV matches around 57.25% of the job description.\n"
          ],
          "name": "stdout"
        }
      ]
    },
    {
      "cell_type": "markdown",
      "metadata": {
        "id": "aEQ-HGEPlh9i",
        "colab_type": "text"
      },
      "source": [
        "With a simple program, we can determine if we are a good match for a particular role as shown above."
      ]
    }
  ]
}