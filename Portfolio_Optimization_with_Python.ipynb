{
  "nbformat": 4,
  "nbformat_minor": 0,
  "metadata": {
    "colab": {
      "name": "Portfolio Optimization with Python.ipynb",
      "provenance": [],
      "collapsed_sections": [],
      "authorship_tag": "ABX9TyPbTb2mWNymi+R7I66oWBO1",
      "include_colab_link": true
    },
    "kernelspec": {
      "name": "python3",
      "display_name": "Python 3"
    }
  },
  "cells": [
    {
      "cell_type": "markdown",
      "metadata": {
        "id": "view-in-github",
        "colab_type": "text"
      },
      "source": [
        "<a href=\"https://colab.research.google.com/github/Ryan-spec/Portfolio-Projects/blob/master/Portfolio_Optimization_with_Python.ipynb\" target=\"_parent\"><img src=\"https://colab.research.google.com/assets/colab-badge.svg\" alt=\"Open In Colab\"/></a>"
      ]
    },
    {
      "cell_type": "markdown",
      "metadata": {
        "id": "V8YPpBJ0Q2qD",
        "colab_type": "text"
      },
      "source": [
        "  # Finance Portfolio Optimization With Python\n",
        "\n",
        "---\n",
        "\n",
        "\n",
        "\n"
      ]
    },
    {
      "cell_type": "code",
      "metadata": {
        "id": "nyfAP3Q4Q1g7",
        "colab_type": "code",
        "colab": {}
      },
      "source": [
        "# This program attempts to optimize a users portfolio using the Efficient Frontier "
      ],
      "execution_count": 1,
      "outputs": []
    },
    {
      "cell_type": "code",
      "metadata": {
        "id": "5kJh_wp9RdZ7",
        "colab_type": "code",
        "colab": {}
      },
      "source": [
        "# Import the libraries\n",
        "from pandas_datareader import data as web\n",
        "import pandas as pd\n",
        "import numpy as np\n",
        "from datetime import datetime\n",
        "import matplotlib.pyplot as plt\n",
        "plt.style.use('fivethirtyeight') \n"
      ],
      "execution_count": 2,
      "outputs": []
    },
    {
      "cell_type": "code",
      "metadata": {
        "id": "TcxrwZR7SGgF",
        "colab_type": "code",
        "colab": {}
      },
      "source": [
        "# Get the stock tickers or symbols in the portfolio\n",
        "#FAANG - USA most valuable Tech Companies\n",
        "assets = ['FB','AMZN','AAPL','NFLX','GOOG']"
      ],
      "execution_count": 3,
      "outputs": []
    },
    {
      "cell_type": "code",
      "metadata": {
        "id": "PgNR5NuLSnUQ",
        "colab_type": "code",
        "colab": {}
      },
      "source": [
        "# Assign weights to the stocks\n",
        "weights = np.array([0.2,0.2,0.2,0.2,0.2])"
      ],
      "execution_count": 4,
      "outputs": []
    },
    {
      "cell_type": "code",
      "metadata": {
        "id": "10Iy2JXqS8I4",
        "colab_type": "code",
        "colab": {}
      },
      "source": [
        "# Get the stock start date\n",
        "stockStartDate = '2013-01-01'"
      ],
      "execution_count": 5,
      "outputs": []
    },
    {
      "cell_type": "code",
      "metadata": {
        "id": "M43FTaEXTPDG",
        "colab_type": "code",
        "colab": {
          "base_uri": "https://localhost:8080/",
          "height": 35
        },
        "outputId": "42613e8a-ee14-4c27-a83f-14a0415480c1"
      },
      "source": [
        "# Get the stock end date\n",
        "today = datetime.today().strftime('%Y-%m-%d')\n",
        "today"
      ],
      "execution_count": 6,
      "outputs": [
        {
          "output_type": "execute_result",
          "data": {
            "application/vnd.google.colaboratory.intrinsic": {
              "type": "string"
            },
            "text/plain": [
              "'2020-07-03'"
            ]
          },
          "metadata": {
            "tags": []
          },
          "execution_count": 6
        }
      ]
    },
    {
      "cell_type": "code",
      "metadata": {
        "id": "M5FpYlU7TpTZ",
        "colab_type": "code",
        "colab": {}
      },
      "source": [
        "# Create a DataFrame to store the Adj Close Price of the stocks\n",
        "df = pd.DataFrame()\n",
        "\n",
        "# Store the Adj Close Price into the datafame\n",
        "for stock in assets:\n",
        "  df[stock] = web.DataReader(stock, data_source='yahoo', start=stockStartDate, end = today)['Adj Close']"
      ],
      "execution_count": 7,
      "outputs": []
    },
    {
      "cell_type": "code",
      "metadata": {
        "id": "LBbRV64FUmeP",
        "colab_type": "code",
        "colab": {
          "base_uri": "https://localhost:8080/",
          "height": 446
        },
        "outputId": "b16a131c-7a46-4b7b-b9f6-4c88fdc5aa98"
      },
      "source": [
        "# Show df\n",
        "df"
      ],
      "execution_count": 8,
      "outputs": [
        {
          "output_type": "execute_result",
          "data": {
            "text/html": [
              "<div>\n",
              "<style scoped>\n",
              "    .dataframe tbody tr th:only-of-type {\n",
              "        vertical-align: middle;\n",
              "    }\n",
              "\n",
              "    .dataframe tbody tr th {\n",
              "        vertical-align: top;\n",
              "    }\n",
              "\n",
              "    .dataframe thead th {\n",
              "        text-align: right;\n",
              "    }\n",
              "</style>\n",
              "<table border=\"1\" class=\"dataframe\">\n",
              "  <thead>\n",
              "    <tr style=\"text-align: right;\">\n",
              "      <th></th>\n",
              "      <th>FB</th>\n",
              "      <th>AMZN</th>\n",
              "      <th>AAPL</th>\n",
              "      <th>NFLX</th>\n",
              "      <th>GOOG</th>\n",
              "    </tr>\n",
              "    <tr>\n",
              "      <th>Date</th>\n",
              "      <th></th>\n",
              "      <th></th>\n",
              "      <th></th>\n",
              "      <th></th>\n",
              "      <th></th>\n",
              "    </tr>\n",
              "  </thead>\n",
              "  <tbody>\n",
              "    <tr>\n",
              "      <th>2013-01-02</th>\n",
              "      <td>28.000000</td>\n",
              "      <td>257.309998</td>\n",
              "      <td>68.502106</td>\n",
              "      <td>13.144286</td>\n",
              "      <td>360.274597</td>\n",
              "    </tr>\n",
              "    <tr>\n",
              "      <th>2013-01-03</th>\n",
              "      <td>27.770000</td>\n",
              "      <td>258.480011</td>\n",
              "      <td>67.637436</td>\n",
              "      <td>13.798572</td>\n",
              "      <td>360.483826</td>\n",
              "    </tr>\n",
              "    <tr>\n",
              "      <th>2013-01-04</th>\n",
              "      <td>28.760000</td>\n",
              "      <td>259.149994</td>\n",
              "      <td>65.753418</td>\n",
              "      <td>13.711429</td>\n",
              "      <td>367.607117</td>\n",
              "    </tr>\n",
              "    <tr>\n",
              "      <th>2013-01-07</th>\n",
              "      <td>29.420000</td>\n",
              "      <td>268.459991</td>\n",
              "      <td>65.366646</td>\n",
              "      <td>14.171429</td>\n",
              "      <td>366.003143</td>\n",
              "    </tr>\n",
              "    <tr>\n",
              "      <th>2013-01-08</th>\n",
              "      <td>29.059999</td>\n",
              "      <td>266.380005</td>\n",
              "      <td>65.542587</td>\n",
              "      <td>13.880000</td>\n",
              "      <td>365.280823</td>\n",
              "    </tr>\n",
              "    <tr>\n",
              "      <th>...</th>\n",
              "      <td>...</td>\n",
              "      <td>...</td>\n",
              "      <td>...</td>\n",
              "      <td>...</td>\n",
              "      <td>...</td>\n",
              "    </tr>\n",
              "    <tr>\n",
              "      <th>2020-06-26</th>\n",
              "      <td>216.080002</td>\n",
              "      <td>2692.870117</td>\n",
              "      <td>353.630005</td>\n",
              "      <td>443.399994</td>\n",
              "      <td>1359.900024</td>\n",
              "    </tr>\n",
              "    <tr>\n",
              "      <th>2020-06-29</th>\n",
              "      <td>220.639999</td>\n",
              "      <td>2680.379883</td>\n",
              "      <td>361.779999</td>\n",
              "      <td>447.239990</td>\n",
              "      <td>1394.969971</td>\n",
              "    </tr>\n",
              "    <tr>\n",
              "      <th>2020-06-30</th>\n",
              "      <td>227.070007</td>\n",
              "      <td>2758.820068</td>\n",
              "      <td>364.799988</td>\n",
              "      <td>455.040009</td>\n",
              "      <td>1413.609985</td>\n",
              "    </tr>\n",
              "    <tr>\n",
              "      <th>2020-07-01</th>\n",
              "      <td>237.550003</td>\n",
              "      <td>2878.699951</td>\n",
              "      <td>364.109985</td>\n",
              "      <td>485.640015</td>\n",
              "      <td>1438.040039</td>\n",
              "    </tr>\n",
              "    <tr>\n",
              "      <th>2020-07-02</th>\n",
              "      <td>233.419998</td>\n",
              "      <td>2890.300049</td>\n",
              "      <td>364.109985</td>\n",
              "      <td>476.890015</td>\n",
              "      <td>1464.699951</td>\n",
              "    </tr>\n",
              "  </tbody>\n",
              "</table>\n",
              "<p>1889 rows × 5 columns</p>\n",
              "</div>"
            ],
            "text/plain": [
              "                    FB         AMZN        AAPL        NFLX         GOOG\n",
              "Date                                                                    \n",
              "2013-01-02   28.000000   257.309998   68.502106   13.144286   360.274597\n",
              "2013-01-03   27.770000   258.480011   67.637436   13.798572   360.483826\n",
              "2013-01-04   28.760000   259.149994   65.753418   13.711429   367.607117\n",
              "2013-01-07   29.420000   268.459991   65.366646   14.171429   366.003143\n",
              "2013-01-08   29.059999   266.380005   65.542587   13.880000   365.280823\n",
              "...                ...          ...         ...         ...          ...\n",
              "2020-06-26  216.080002  2692.870117  353.630005  443.399994  1359.900024\n",
              "2020-06-29  220.639999  2680.379883  361.779999  447.239990  1394.969971\n",
              "2020-06-30  227.070007  2758.820068  364.799988  455.040009  1413.609985\n",
              "2020-07-01  237.550003  2878.699951  364.109985  485.640015  1438.040039\n",
              "2020-07-02  233.419998  2890.300049  364.109985  476.890015  1464.699951\n",
              "\n",
              "[1889 rows x 5 columns]"
            ]
          },
          "metadata": {
            "tags": []
          },
          "execution_count": 8
        }
      ]
    },
    {
      "cell_type": "code",
      "metadata": {
        "id": "gkwmVOiDUrmI",
        "colab_type": "code",
        "colab": {
          "base_uri": "https://localhost:8080/",
          "height": 325
        },
        "outputId": "77bd6d2d-34d2-44a6-e479-7e25acaa619a"
      },
      "source": [
        "# Visualize the stock portfolio \n",
        "\n",
        "title = 'Portfolio Adj. Close Price History'\n",
        "\n",
        "# Get the stocks\n",
        "my_stocks = df\n",
        "\n",
        "# Create and plot the graph\n",
        "for c in my_stocks.columns.values:\n",
        "  plt.plot(my_stocks[c], label = c)\n",
        "\n",
        "plt.title(title)\n",
        "plt.xlabel('Date', fontsize=18)\n",
        "plt.ylabel('Adj. Close Price(%)', fontsize=18)\n",
        "plt.legend(my_stocks.columns.values)\n",
        "plt.show()"
      ],
      "execution_count": 9,
      "outputs": [
        {
          "output_type": "display_data",
          "data": {
            "image/png": "[encoded data removed]",
            "text/plain": [
              "<Figure size 432x288 with 1 Axes>"
            ]
          },
          "metadata": {
            "tags": []
          }
        }
      ]
    },
    {
      "cell_type": "code",
      "metadata": {
        "id": "jiTYVYNdV_Eh",
        "colab_type": "code",
        "colab": {
          "base_uri": "https://localhost:8080/",
          "height": 446
        },
        "outputId": "f96c7410-de58-4107-9294-cc11695e5570"
      },
      "source": [
        "# Show the daily simple return\n",
        "returns = df.pct_change()\n",
        "returns"
      ],
      "execution_count": 10,
      "outputs": [
        {
          "output_type": "execute_result",
          "data": {
            "text/html": [
              "<div>\n",
              "<style scoped>\n",
              "    .dataframe tbody tr th:only-of-type {\n",
              "        vertical-align: middle;\n",
              "    }\n",
              "\n",
              "    .dataframe tbody tr th {\n",
              "        vertical-align: top;\n",
              "    }\n",
              "\n",
              "    .dataframe thead th {\n",
              "        text-align: right;\n",
              "    }\n",
              "</style>\n",
              "<table border=\"1\" class=\"dataframe\">\n",
              "  <thead>\n",
              "    <tr style=\"text-align: right;\">\n",
              "      <th></th>\n",
              "      <th>FB</th>\n",
              "      <th>AMZN</th>\n",
              "      <th>AAPL</th>\n",
              "      <th>NFLX</th>\n",
              "      <th>GOOG</th>\n",
              "    </tr>\n",
              "    <tr>\n",
              "      <th>Date</th>\n",
              "      <th></th>\n",
              "      <th></th>\n",
              "      <th></th>\n",
              "      <th></th>\n",
              "      <th></th>\n",
              "    </tr>\n",
              "  </thead>\n",
              "  <tbody>\n",
              "    <tr>\n",
              "      <th>2013-01-02</th>\n",
              "      <td>NaN</td>\n",
              "      <td>NaN</td>\n",
              "      <td>NaN</td>\n",
              "      <td>NaN</td>\n",
              "      <td>NaN</td>\n",
              "    </tr>\n",
              "    <tr>\n",
              "      <th>2013-01-03</th>\n",
              "      <td>-0.008214</td>\n",
              "      <td>0.004547</td>\n",
              "      <td>-0.012623</td>\n",
              "      <td>0.049777</td>\n",
              "      <td>0.000581</td>\n",
              "    </tr>\n",
              "    <tr>\n",
              "      <th>2013-01-04</th>\n",
              "      <td>0.035650</td>\n",
              "      <td>0.002592</td>\n",
              "      <td>-0.027855</td>\n",
              "      <td>-0.006315</td>\n",
              "      <td>0.019760</td>\n",
              "    </tr>\n",
              "    <tr>\n",
              "      <th>2013-01-07</th>\n",
              "      <td>0.022949</td>\n",
              "      <td>0.035925</td>\n",
              "      <td>-0.005882</td>\n",
              "      <td>0.033549</td>\n",
              "      <td>-0.004363</td>\n",
              "    </tr>\n",
              "    <tr>\n",
              "      <th>2013-01-08</th>\n",
              "      <td>-0.012237</td>\n",
              "      <td>-0.007748</td>\n",
              "      <td>0.002692</td>\n",
              "      <td>-0.020565</td>\n",
              "      <td>-0.001974</td>\n",
              "    </tr>\n",
              "    <tr>\n",
              "      <th>...</th>\n",
              "      <td>...</td>\n",
              "      <td>...</td>\n",
              "      <td>...</td>\n",
              "      <td>...</td>\n",
              "      <td>...</td>\n",
              "    </tr>\n",
              "    <tr>\n",
              "      <th>2020-06-26</th>\n",
              "      <td>-0.083164</td>\n",
              "      <td>-0.022403</td>\n",
              "      <td>-0.030726</td>\n",
              "      <td>-0.048314</td>\n",
              "      <td>-0.056496</td>\n",
              "    </tr>\n",
              "    <tr>\n",
              "      <th>2020-06-29</th>\n",
              "      <td>0.021103</td>\n",
              "      <td>-0.004638</td>\n",
              "      <td>0.023047</td>\n",
              "      <td>0.008660</td>\n",
              "      <td>0.025789</td>\n",
              "    </tr>\n",
              "    <tr>\n",
              "      <th>2020-06-30</th>\n",
              "      <td>0.029143</td>\n",
              "      <td>0.029265</td>\n",
              "      <td>0.008348</td>\n",
              "      <td>0.017440</td>\n",
              "      <td>0.013362</td>\n",
              "    </tr>\n",
              "    <tr>\n",
              "      <th>2020-07-01</th>\n",
              "      <td>0.046153</td>\n",
              "      <td>0.043453</td>\n",
              "      <td>-0.001891</td>\n",
              "      <td>0.067247</td>\n",
              "      <td>0.017282</td>\n",
              "    </tr>\n",
              "    <tr>\n",
              "      <th>2020-07-02</th>\n",
              "      <td>-0.017386</td>\n",
              "      <td>0.004030</td>\n",
              "      <td>0.000000</td>\n",
              "      <td>-0.018017</td>\n",
              "      <td>0.018539</td>\n",
              "    </tr>\n",
              "  </tbody>\n",
              "</table>\n",
              "<p>1889 rows × 5 columns</p>\n",
              "</div>"
            ],
            "text/plain": [
              "                  FB      AMZN      AAPL      NFLX      GOOG\n",
              "Date                                                        \n",
              "2013-01-02       NaN       NaN       NaN       NaN       NaN\n",
              "2013-01-03 -0.008214  0.004547 -0.012623  0.049777  0.000581\n",
              "2013-01-04  0.035650  0.002592 -0.027855 -0.006315  0.019760\n",
              "2013-01-07  0.022949  0.035925 -0.005882  0.033549 -0.004363\n",
              "2013-01-08 -0.012237 -0.007748  0.002692 -0.020565 -0.001974\n",
              "...              ...       ...       ...       ...       ...\n",
              "2020-06-26 -0.083164 -0.022403 -0.030726 -0.048314 -0.056496\n",
              "2020-06-29  0.021103 -0.004638  0.023047  0.008660  0.025789\n",
              "2020-06-30  0.029143  0.029265  0.008348  0.017440  0.013362\n",
              "2020-07-01  0.046153  0.043453 -0.001891  0.067247  0.017282\n",
              "2020-07-02 -0.017386  0.004030  0.000000 -0.018017  0.018539\n",
              "\n",
              "[1889 rows x 5 columns]"
            ]
          },
          "metadata": {
            "tags": []
          },
          "execution_count": 10
        }
      ]
    },
    {
      "cell_type": "code",
      "metadata": {
        "id": "ezW2r_atWVl8",
        "colab_type": "code",
        "colab": {
          "base_uri": "https://localhost:8080/",
          "height": 202
        },
        "outputId": "78a09166-992c-449e-fd27-948ecf8eff69"
      },
      "source": [
        "# Create and show the annualized covariance matrix\n",
        "cov_annual_matrix = returns.cov() * 252\n",
        "cov_annual_matrix"
      ],
      "execution_count": 11,
      "outputs": [
        {
          "output_type": "execute_result",
          "data": {
            "text/html": [
              "<div>\n",
              "<style scoped>\n",
              "    .dataframe tbody tr th:only-of-type {\n",
              "        vertical-align: middle;\n",
              "    }\n",
              "\n",
              "    .dataframe tbody tr th {\n",
              "        vertical-align: top;\n",
              "    }\n",
              "\n",
              "    .dataframe thead th {\n",
              "        text-align: right;\n",
              "    }\n",
              "</style>\n",
              "<table border=\"1\" class=\"dataframe\">\n",
              "  <thead>\n",
              "    <tr style=\"text-align: right;\">\n",
              "      <th></th>\n",
              "      <th>FB</th>\n",
              "      <th>AMZN</th>\n",
              "      <th>AAPL</th>\n",
              "      <th>NFLX</th>\n",
              "      <th>GOOG</th>\n",
              "    </tr>\n",
              "  </thead>\n",
              "  <tbody>\n",
              "    <tr>\n",
              "      <th>FB</th>\n",
              "      <td>0.116965</td>\n",
              "      <td>0.052247</td>\n",
              "      <td>0.041163</td>\n",
              "      <td>0.054714</td>\n",
              "      <td>0.049190</td>\n",
              "    </tr>\n",
              "    <tr>\n",
              "      <th>AMZN</th>\n",
              "      <td>0.052247</td>\n",
              "      <td>0.091515</td>\n",
              "      <td>0.035707</td>\n",
              "      <td>0.061267</td>\n",
              "      <td>0.046524</td>\n",
              "    </tr>\n",
              "    <tr>\n",
              "      <th>AAPL</th>\n",
              "      <td>0.041163</td>\n",
              "      <td>0.035707</td>\n",
              "      <td>0.076530</td>\n",
              "      <td>0.032012</td>\n",
              "      <td>0.037582</td>\n",
              "    </tr>\n",
              "    <tr>\n",
              "      <th>NFLX</th>\n",
              "      <td>0.054714</td>\n",
              "      <td>0.061267</td>\n",
              "      <td>0.032012</td>\n",
              "      <td>0.212310</td>\n",
              "      <td>0.048884</td>\n",
              "    </tr>\n",
              "    <tr>\n",
              "      <th>GOOG</th>\n",
              "      <td>0.049190</td>\n",
              "      <td>0.046524</td>\n",
              "      <td>0.037582</td>\n",
              "      <td>0.048884</td>\n",
              "      <td>0.065068</td>\n",
              "    </tr>\n",
              "  </tbody>\n",
              "</table>\n",
              "</div>"
            ],
            "text/plain": [
              "            FB      AMZN      AAPL      NFLX      GOOG\n",
              "FB    0.116965  0.052247  0.041163  0.054714  0.049190\n",
              "AMZN  0.052247  0.091515  0.035707  0.061267  0.046524\n",
              "AAPL  0.041163  0.035707  0.076530  0.032012  0.037582\n",
              "NFLX  0.054714  0.061267  0.032012  0.212310  0.048884\n",
              "GOOG  0.049190  0.046524  0.037582  0.048884  0.065068"
            ]
          },
          "metadata": {
            "tags": []
          },
          "execution_count": 11
        }
      ]
    },
    {
      "cell_type": "code",
      "metadata": {
        "id": "9tkabM7bW77k",
        "colab_type": "code",
        "colab": {
          "base_uri": "https://localhost:8080/",
          "height": 35
        },
        "outputId": "24f3f953-2079-4844-a8ee-8c7bb434560b"
      },
      "source": [
        "# Calculate the portfolio variance \n",
        "port_variance = np.dot(weights.T, np.dot(cov_annual_matrix, weights))\n",
        "port_variance"
      ],
      "execution_count": 12,
      "outputs": [
        {
          "output_type": "execute_result",
          "data": {
            "text/plain": [
              "0.05923868885561533"
            ]
          },
          "metadata": {
            "tags": []
          },
          "execution_count": 12
        }
      ]
    },
    {
      "cell_type": "code",
      "metadata": {
        "id": "dhdt-HCCXaNm",
        "colab_type": "code",
        "colab": {
          "base_uri": "https://localhost:8080/",
          "height": 35
        },
        "outputId": "8c612668-5148-4c64-fbba-59d6f2b59115"
      },
      "source": [
        "# Calculate the portfolio volatility / standard deviation\n",
        "port_volatility = np.sqrt(port_variance)\n",
        "port_volatility"
      ],
      "execution_count": 13,
      "outputs": [
        {
          "output_type": "execute_result",
          "data": {
            "text/plain": [
              "0.2433899933350082"
            ]
          },
          "metadata": {
            "tags": []
          },
          "execution_count": 13
        }
      ]
    },
    {
      "cell_type": "code",
      "metadata": {
        "id": "84u2cwSgXyRd",
        "colab_type": "code",
        "colab": {
          "base_uri": "https://localhost:8080/",
          "height": 35
        },
        "outputId": "757a74e9-3029-435e-eb70-d45836a57f9e"
      },
      "source": [
        "# Calculate the annual portfolio return \n",
        "portfolioSimpleAnnualReturn = np.sum(returns.mean() * weights) * 252\n",
        "portfolioSimpleAnnualReturn"
      ],
      "execution_count": 14,
      "outputs": [
        {
          "output_type": "execute_result",
          "data": {
            "text/plain": [
              "0.35452595312732793"
            ]
          },
          "metadata": {
            "tags": []
          },
          "execution_count": 14
        }
      ]
    },
    {
      "cell_type": "code",
      "metadata": {
        "id": "9XMRotDXYPFZ",
        "colab_type": "code",
        "colab": {
          "base_uri": "https://localhost:8080/",
          "height": 69
        },
        "outputId": "b352aa27-e328-46c8-efac-af3f07bca3ff"
      },
      "source": [
        "# Show the expected annual return, volatility(risk), and variance\n",
        "percent_var = str(round(port_variance, 2) * 100) + '%'\n",
        "percent_vol = str(round(port_volatility, 2) * 100) + '%'\n",
        "percent_ret = str(round(portfolioSimpleAnnualReturn, 2) * 100) + '%'\n",
        "\n",
        "print('Expected annual return: ' + percent_ret)\n",
        "print('Annual volatility(risk): ' + percent_vol)\n",
        "print('Annual variance: ' + percent_var)"
      ],
      "execution_count": 15,
      "outputs": [
        {
          "output_type": "stream",
          "text": [
            "Expected annual return: 35.0%\n",
            "Annual volatility(risk): 24.0%\n",
            "Annual variance: 6.0%\n"
          ],
          "name": "stdout"
        }
      ]
    },
    {
      "cell_type": "code",
      "metadata": {
        "id": "pt9o6YfrZfBR",
        "colab_type": "code",
        "colab": {
          "base_uri": "https://localhost:8080/",
          "height": 349
        },
        "outputId": "425a6285-660e-47e0-d1da-9de9625cd4ed"
      },
      "source": [
        "pip install PyPortfolioOpt"
      ],
      "execution_count": 16,
      "outputs": [
        {
          "output_type": "stream",
          "text": [
            "Collecting PyPortfolioOpt\n",
            "\u001b[?25l  Downloading https://files.pythonhosted.org/packages/8f/f5/4571e069d4870ede26995e191f2ef341329f881d7086cebea504141c79a8/PyPortfolioOpt-1.2.3-py3-none-any.whl (48kB)\n",
            "\r\u001b[K     |██████▉                         | 10kB 17.6MB/s eta 0:00:01\r\u001b[K     |█████████████▋                  | 20kB 1.5MB/s eta 0:00:01\r\u001b[K     |████████████████████▍           | 30kB 1.9MB/s eta 0:00:01\r\u001b[K     |███████████████████████████▏    | 40kB 1.5MB/s eta 0:00:01\r\u001b[K     |████████████████████████████████| 51kB 1.5MB/s \n",
            "\u001b[?25hRequirement already satisfied: scipy<2.0,>=1.3 in /usr/local/lib/python3.6/dist-packages (from PyPortfolioOpt) (1.4.1)\n",
            "Requirement already satisfied: pandas>=0.19 in /usr/local/lib/python3.6/dist-packages (from PyPortfolioOpt) (1.0.5)\n",
            "Requirement already satisfied: cvxpy<1.1,>=1.0 in /usr/local/lib/python3.6/dist-packages (from PyPortfolioOpt) (1.0.31)\n",
            "Requirement already satisfied: numpy<2.0,>=1.12 in /usr/local/lib/python3.6/dist-packages (from PyPortfolioOpt) (1.18.5)\n",
            "Requirement already satisfied: python-dateutil>=2.6.1 in /usr/local/lib/python3.6/dist-packages (from pandas>=0.19->PyPortfolioOpt) (2.8.1)\n",
            "Requirement already satisfied: pytz>=2017.2 in /usr/local/lib/python3.6/dist-packages (from pandas>=0.19->PyPortfolioOpt) (2018.9)\n",
            "Requirement already satisfied: osqp>=0.4.1 in /usr/local/lib/python3.6/dist-packages (from cvxpy<1.1,>=1.0->PyPortfolioOpt) (0.6.1)\n",
            "Requirement already satisfied: multiprocess in /usr/local/lib/python3.6/dist-packages (from cvxpy<1.1,>=1.0->PyPortfolioOpt) (0.70.10)\n",
            "Requirement already satisfied: ecos>=2 in /usr/local/lib/python3.6/dist-packages (from cvxpy<1.1,>=1.0->PyPortfolioOpt) (2.0.7.post1)\n",
            "Requirement already satisfied: scs>=1.1.3 in /usr/local/lib/python3.6/dist-packages (from cvxpy<1.1,>=1.0->PyPortfolioOpt) (2.1.2)\n",
            "Requirement already satisfied: six>=1.5 in /usr/local/lib/python3.6/dist-packages (from python-dateutil>=2.6.1->pandas>=0.19->PyPortfolioOpt) (1.12.0)\n",
            "Requirement already satisfied: future in /usr/local/lib/python3.6/dist-packages (from osqp>=0.4.1->cvxpy<1.1,>=1.0->PyPortfolioOpt) (0.16.0)\n",
            "Requirement already satisfied: dill>=0.3.2 in /usr/local/lib/python3.6/dist-packages (from multiprocess->cvxpy<1.1,>=1.0->PyPortfolioOpt) (0.3.2)\n",
            "Installing collected packages: PyPortfolioOpt\n",
            "Successfully installed PyPortfolioOpt-1.2.3\n"
          ],
          "name": "stdout"
        }
      ]
    },
    {
      "cell_type": "code",
      "metadata": {
        "id": "eEpZkdzWZzs6",
        "colab_type": "code",
        "colab": {}
      },
      "source": [
        "# Import the libraries\n",
        "from pypfopt.efficient_frontier import EfficientFrontier\n",
        "from pypfopt import risk_models\n",
        "from pypfopt import expected_returns"
      ],
      "execution_count": 17,
      "outputs": []
    },
    {
      "cell_type": "code",
      "metadata": {
        "id": "tIoUH3ZNaf71",
        "colab_type": "code",
        "colab": {
          "base_uri": "https://localhost:8080/",
          "height": 104
        },
        "outputId": "fd38e2b1-8712-488f-bc20-5ff3e53a613e"
      },
      "source": [
        "# Portfolio Optimization\n",
        "\n",
        "# Calculate the expected returns and the annualised sample covariance matrix of asset returns\n",
        "mu = expected_returns.mean_historical_return(df)\n",
        "S = risk_models.sample_cov(df)\n",
        "\n",
        "# Optimize for max sharpe ratio\n",
        "ef = EfficientFrontier(mu, S)\n",
        "weights = ef.max_sharpe()\n",
        "cleaned_weights = ef.clean_weights() \n",
        "print(cleaned_weights)\n",
        "ef.portfolio_performance(verbose=True)"
      ],
      "execution_count": 18,
      "outputs": [
        {
          "output_type": "stream",
          "text": [
            "OrderedDict([('FB', 0.12948), ('AMZN', 0.31937), ('AAPL', 0.22417), ('NFLX', 0.32697), ('GOOG', 0.0)])\n",
            "Expected annual return: 41.1%\n",
            "Annual volatility: 26.8%\n",
            "Sharpe Ratio: 1.46\n"
          ],
          "name": "stdout"
        },
        {
          "output_type": "execute_result",
          "data": {
            "text/plain": [
              "(0.4108084837579751, 0.2679264424007808, 1.4586409622585135)"
            ]
          },
          "metadata": {
            "tags": []
          },
          "execution_count": 18
        }
      ]
    },
    {
      "cell_type": "code",
      "metadata": {
        "id": "QSNTdUSLcbxT",
        "colab_type": "code",
        "colab": {
          "base_uri": "https://localhost:8080/",
          "height": 52
        },
        "outputId": "387af73f-e8ca-4ceb-927e-8871597fe642"
      },
      "source": [
        "# Get the discrete allocation of each share per stock\n",
        "from pypfopt.discrete_allocation import DiscreteAllocation, get_latest_prices\n",
        "latest_prices = get_latest_prices(df)\n",
        "weights = cleaned_weights\n",
        "da = DiscreteAllocation(weights, latest_prices, total_portfolio_value = 15000)\n",
        "\n",
        "allocation, leftover = da.lp_portfolio()\n",
        "print('Discrete allocation:', allocation)\n",
        "print('Funds remaining: ${:.2f}'.format(leftover)) \n"
      ],
      "execution_count": 21,
      "outputs": [
        {
          "output_type": "stream",
          "text": [
            "Discrete allocation: {'FB': 5.0, 'AMZN': 2.0, 'AAPL': 9.0, 'NFLX': 10.0}\n",
            "Funds remaining: $6.41\n"
          ],
          "name": "stdout"
        }
      ]
    },
    {
      "cell_type": "markdown",
      "metadata": {
        "id": "EXn-UpyEfKkB",
        "colab_type": "text"
      },
      "source": [
        "As the results show, in order to optimize this portfolio using $15 000, we'd have to buy 5 shares of Facebook, 2 shares of Amazon, 9 shares of Apple and 10 shares of Netflix. "
      ]
    },
    {
      "cell_type": "code",
      "metadata": {
        "id": "pCwii5VEeO_g",
        "colab_type": "code",
        "colab": {}
      },
      "source": [
        ""
      ],
      "execution_count": null,
      "outputs": []
    }
  ]
}