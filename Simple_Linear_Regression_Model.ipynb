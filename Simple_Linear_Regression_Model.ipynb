{
  "nbformat": 4,
  "nbformat_minor": 0,
  "metadata": {
    "colab": {
      "name": "Simple Linear Regression Model.ipynb",
      "provenance": [],
      "authorship_tag": "ABX9TyOQF71XF2/SR8tw5x4GJGUh",
      "include_colab_link": true
    },
    "kernelspec": {
      "name": "python3",
      "display_name": "Python 3"
    }
  },
  "cells": [
    {
      "cell_type": "markdown",
      "metadata": {
        "id": "view-in-github",
        "colab_type": "text"
      },
      "source": [
        "<a href=\"https://colab.research.google.com/github/Ryan-spec/Portfolio-Projects/blob/master/Simple_Linear_Regression_Model.ipynb\" target=\"_parent\"><img src=\"https://colab.research.google.com/assets/colab-badge.svg\" alt=\"Open In Colab\"/></a>"
      ]
    },
    {
      "cell_type": "markdown",
      "metadata": {
        "id": "31E1B68EPdv-",
        "colab_type": "text"
      },
      "source": [
        "# **Simple Machine Learning Program(Linear Regression)**\n",
        "\n",
        "---\n",
        "\n"
      ]
    },
    {
      "cell_type": "code",
      "metadata": {
        "id": "qX-xrgBFMlTF",
        "colab_type": "code",
        "colab": {}
      },
      "source": [
        "# This program attempts to build a simple Linear Regression Model"
      ],
      "execution_count": null,
      "outputs": []
    },
    {
      "cell_type": "code",
      "metadata": {
        "id": "iQfbOWHZNP_i",
        "colab_type": "code",
        "colab": {}
      },
      "source": [
        "# Import the libraries\n",
        "from sklearn.linear_model import LinearRegression\n",
        "import random"
      ],
      "execution_count": 3,
      "outputs": []
    },
    {
      "cell_type": "code",
      "metadata": {
        "id": "E5I8WdnlNujt",
        "colab_type": "code",
        "colab": {}
      },
      "source": [
        "# Create two empty lists\n",
        "feature_set = []\n",
        "target_set = [] "
      ],
      "execution_count": 4,
      "outputs": []
    },
    {
      "cell_type": "code",
      "metadata": {
        "id": "vgNqh5fBQPx9",
        "colab_type": "code",
        "colab": {}
      },
      "source": [
        "# Get the number of rows for the dataset\n",
        "number_of_rows = 200\n",
        "\n",
        "# Limit the possible values in the dataset\n",
        "random_number_limit = 2000"
      ],
      "execution_count": 5,
      "outputs": []
    },
    {
      "cell_type": "code",
      "metadata": {
        "id": "2hvX45OQQnpk",
        "colab_type": "code",
        "colab": {}
      },
      "source": [
        "# Create the dataset\n",
        "\n",
        "# Create the feature dataset\n",
        "for i in range(0, number_of_rows):\n",
        "  x = random.randint(0, random_number_limit)\n",
        "  y = random.randint(0, random_number_limit)\n",
        "  z = random.randint(0, random_number_limit)\n",
        "\n",
        "# Create a linear function for the target set\n",
        "  function = (10*x)+(2*y)+(3*z)\n",
        "\n",
        "# Append the data to the list\n",
        "  feature_set.append([x,y,z])\n",
        "  target_set.append(function)"
      ],
      "execution_count": 11,
      "outputs": []
    },
    {
      "cell_type": "code",
      "metadata": {
        "id": "RfJwzHTSRrNB",
        "colab_type": "code",
        "colab": {
          "base_uri": "https://localhost:8080/",
          "height": 35
        },
        "outputId": "3f870b38-d840-4108-d4fa-84d7989a170f"
      },
      "source": [
        "# Create the Linear Regression Model\n",
        "model = LinearRegression()\n",
        "model.fit(feature_set, target_set)"
      ],
      "execution_count": 12,
      "outputs": [
        {
          "output_type": "execute_result",
          "data": {
            "text/plain": [
              "LinearRegression(copy_X=True, fit_intercept=True, n_jobs=None, normalize=False)"
            ]
          },
          "metadata": {
            "tags": []
          },
          "execution_count": 12
        }
      ]
    },
    {
      "cell_type": "code",
      "metadata": {
        "id": "6kVOKMx3R8mD",
        "colab_type": "code",
        "colab": {}
      },
      "source": [
        "# Create the test data set\n",
        "test_set = [[8, 10, 0]] # Expected output = function(8,10,0) = (10*8)+(2*10)+(3*0) = 100\n",
        "prediction = model.predict(test_set)"
      ],
      "execution_count": 13,
      "outputs": []
    },
    {
      "cell_type": "code",
      "metadata": {
        "id": "wJ13nBJESz9r",
        "colab_type": "code",
        "colab": {
          "base_uri": "https://localhost:8080/",
          "height": 35
        },
        "outputId": "760acb76-8179-4540-fb17-87fe47c41ccc"
      },
      "source": [
        "print('Prediction:'+str(prediction)+' Coeffecients:'+ str(model.coef_))"
      ],
      "execution_count": 14,
      "outputs": [
        {
          "output_type": "stream",
          "text": [
            "Prediction:[100.] Coeffecients:[10.  2.  3.]\n"
          ],
          "name": "stdout"
        }
      ]
    }
  ]
}