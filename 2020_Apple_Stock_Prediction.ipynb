{
  "nbformat": 4,
  "nbformat_minor": 0,
  "metadata": {
    "colab": {
      "name": "2020 Apple Stock Prediction.ipynb",
      "provenance": [],
      "collapsed_sections": [],
      "authorship_tag": "ABX9TyMB4BqeutksB4s5OUY4fxSr",
      "include_colab_link": true
    },
    "kernelspec": {
      "name": "python3",
      "display_name": "Python 3"
    }
  },
  "cells": [
    {
      "cell_type": "markdown",
      "metadata": {
        "id": "view-in-github",
        "colab_type": "text"
      },
      "source": [
        "<a href=\"https://colab.research.google.com/github/Ryan-spec/Portfolio-Projects/blob/master/2020_Apple_Stock_Prediction.ipynb\" target=\"_parent\"><img src=\"https://colab.research.google.com/assets/colab-badge.svg\" alt=\"Open In Colab\"/></a>"
      ]
    },
    {
      "cell_type": "markdown",
      "metadata": {
        "id": "zoIfq6zUM8d0",
        "colab_type": "text"
      },
      "source": [
        "# Closing Stock Price Prediction Using RNN and LSTM"
      ]
    },
    {
      "cell_type": "code",
      "metadata": {
        "id": "MuExZA-bMbPe",
        "colab_type": "code",
        "colab": {}
      },
      "source": [
        "# Using Machine Learning Techniques we will attempt to predict the future closing price of Apple Inc. using the closing price from the last 60 days."
      ],
      "execution_count": 1,
      "outputs": []
    },
    {
      "cell_type": "code",
      "metadata": {
        "id": "DlI13FQbOQN1",
        "colab_type": "code",
        "colab": {}
      },
      "source": [
        "# Import the libraries\n",
        "import pandas as pd\n",
        "import numpy as np\n",
        "import math\n",
        "import pandas_datareader as web\n",
        "from sklearn.preprocessing import MinMaxScaler\n",
        "from keras.models import Sequential\n",
        "from keras.layers import Dense, LSTM\n",
        "import matplotlib.pyplot as plt\n",
        "plt.style.use('fivethirtyeight') \n",
        "from pandas.util.testing import assert_frame_equal"
      ],
      "execution_count": 3,
      "outputs": []
    },
    {
      "cell_type": "code",
      "metadata": {
        "id": "4hobBVIjPLSm",
        "colab_type": "code",
        "colab": {
          "base_uri": "https://localhost:8080/",
          "height": 446
        },
        "outputId": "f1547d73-8806-48c9-bc9e-22dddd7284bd"
      },
      "source": [
        "# Get the stock quote\n",
        "\n",
        "df = web.DataReader('AAPL', data_source='yahoo',start='2012-01-01', end='2020-06-29')\n",
        "df"
      ],
      "execution_count": 4,
      "outputs": [
        {
          "output_type": "execute_result",
          "data": {
            "text/html": [
              "<div>\n",
              "<style scoped>\n",
              "    .dataframe tbody tr th:only-of-type {\n",
              "        vertical-align: middle;\n",
              "    }\n",
              "\n",
              "    .dataframe tbody tr th {\n",
              "        vertical-align: top;\n",
              "    }\n",
              "\n",
              "    .dataframe thead th {\n",
              "        text-align: right;\n",
              "    }\n",
              "</style>\n",
              "<table border=\"1\" class=\"dataframe\">\n",
              "  <thead>\n",
              "    <tr style=\"text-align: right;\">\n",
              "      <th></th>\n",
              "      <th>High</th>\n",
              "      <th>Low</th>\n",
              "      <th>Open</th>\n",
              "      <th>Close</th>\n",
              "      <th>Volume</th>\n",
              "      <th>Adj Close</th>\n",
              "    </tr>\n",
              "    <tr>\n",
              "      <th>Date</th>\n",
              "      <th></th>\n",
              "      <th></th>\n",
              "      <th></th>\n",
              "      <th></th>\n",
              "      <th></th>\n",
              "      <th></th>\n",
              "    </tr>\n",
              "  </thead>\n",
              "  <tbody>\n",
              "    <tr>\n",
              "      <th>2012-01-03</th>\n",
              "      <td>58.928570</td>\n",
              "      <td>58.428570</td>\n",
              "      <td>58.485714</td>\n",
              "      <td>58.747143</td>\n",
              "      <td>75555200.0</td>\n",
              "      <td>50.857235</td>\n",
              "    </tr>\n",
              "    <tr>\n",
              "      <th>2012-01-04</th>\n",
              "      <td>59.240002</td>\n",
              "      <td>58.468571</td>\n",
              "      <td>58.571430</td>\n",
              "      <td>59.062859</td>\n",
              "      <td>65005500.0</td>\n",
              "      <td>51.130558</td>\n",
              "    </tr>\n",
              "    <tr>\n",
              "      <th>2012-01-05</th>\n",
              "      <td>59.792858</td>\n",
              "      <td>58.952858</td>\n",
              "      <td>59.278572</td>\n",
              "      <td>59.718571</td>\n",
              "      <td>67817400.0</td>\n",
              "      <td>51.698215</td>\n",
              "    </tr>\n",
              "    <tr>\n",
              "      <th>2012-01-06</th>\n",
              "      <td>60.392857</td>\n",
              "      <td>59.888573</td>\n",
              "      <td>59.967144</td>\n",
              "      <td>60.342857</td>\n",
              "      <td>79573200.0</td>\n",
              "      <td>52.238651</td>\n",
              "    </tr>\n",
              "    <tr>\n",
              "      <th>2012-01-09</th>\n",
              "      <td>61.107143</td>\n",
              "      <td>60.192856</td>\n",
              "      <td>60.785713</td>\n",
              "      <td>60.247143</td>\n",
              "      <td>98506100.0</td>\n",
              "      <td>52.155792</td>\n",
              "    </tr>\n",
              "    <tr>\n",
              "      <th>...</th>\n",
              "      <td>...</td>\n",
              "      <td>...</td>\n",
              "      <td>...</td>\n",
              "      <td>...</td>\n",
              "      <td>...</td>\n",
              "      <td>...</td>\n",
              "    </tr>\n",
              "    <tr>\n",
              "      <th>2020-06-23</th>\n",
              "      <td>372.380005</td>\n",
              "      <td>362.269989</td>\n",
              "      <td>364.000000</td>\n",
              "      <td>366.529999</td>\n",
              "      <td>53038900.0</td>\n",
              "      <td>366.529999</td>\n",
              "    </tr>\n",
              "    <tr>\n",
              "      <th>2020-06-24</th>\n",
              "      <td>368.790009</td>\n",
              "      <td>358.519989</td>\n",
              "      <td>365.000000</td>\n",
              "      <td>360.059998</td>\n",
              "      <td>48155800.0</td>\n",
              "      <td>360.059998</td>\n",
              "    </tr>\n",
              "    <tr>\n",
              "      <th>2020-06-25</th>\n",
              "      <td>365.000000</td>\n",
              "      <td>357.570007</td>\n",
              "      <td>360.700012</td>\n",
              "      <td>364.839996</td>\n",
              "      <td>34380600.0</td>\n",
              "      <td>364.839996</td>\n",
              "    </tr>\n",
              "    <tr>\n",
              "      <th>2020-06-26</th>\n",
              "      <td>365.320007</td>\n",
              "      <td>353.019989</td>\n",
              "      <td>364.410004</td>\n",
              "      <td>353.630005</td>\n",
              "      <td>51314200.0</td>\n",
              "      <td>353.630005</td>\n",
              "    </tr>\n",
              "    <tr>\n",
              "      <th>2020-06-29</th>\n",
              "      <td>362.170013</td>\n",
              "      <td>351.279999</td>\n",
              "      <td>353.250000</td>\n",
              "      <td>361.779999</td>\n",
              "      <td>32579000.0</td>\n",
              "      <td>361.779999</td>\n",
              "    </tr>\n",
              "  </tbody>\n",
              "</table>\n",
              "<p>2136 rows × 6 columns</p>\n",
              "</div>"
            ],
            "text/plain": [
              "                  High         Low  ...      Volume   Adj Close\n",
              "Date                                ...                        \n",
              "2012-01-03   58.928570   58.428570  ...  75555200.0   50.857235\n",
              "2012-01-04   59.240002   58.468571  ...  65005500.0   51.130558\n",
              "2012-01-05   59.792858   58.952858  ...  67817400.0   51.698215\n",
              "2012-01-06   60.392857   59.888573  ...  79573200.0   52.238651\n",
              "2012-01-09   61.107143   60.192856  ...  98506100.0   52.155792\n",
              "...                ...         ...  ...         ...         ...\n",
              "2020-06-23  372.380005  362.269989  ...  53038900.0  366.529999\n",
              "2020-06-24  368.790009  358.519989  ...  48155800.0  360.059998\n",
              "2020-06-25  365.000000  357.570007  ...  34380600.0  364.839996\n",
              "2020-06-26  365.320007  353.019989  ...  51314200.0  353.630005\n",
              "2020-06-29  362.170013  351.279999  ...  32579000.0  361.779999\n",
              "\n",
              "[2136 rows x 6 columns]"
            ]
          },
          "metadata": {
            "tags": []
          },
          "execution_count": 4
        }
      ]
    },
    {
      "cell_type": "code",
      "metadata": {
        "id": "AxxBJN1bQH3I",
        "colab_type": "code",
        "colab": {
          "base_uri": "https://localhost:8080/",
          "height": 35
        },
        "outputId": "c327b6fd-e6b3-4fe3-a8d6-9a09cfa65aa6"
      },
      "source": [
        "# Get the number of rows and columns of the dataset\n",
        "df.shape"
      ],
      "execution_count": 5,
      "outputs": [
        {
          "output_type": "execute_result",
          "data": {
            "text/plain": [
              "(2136, 6)"
            ]
          },
          "metadata": {
            "tags": []
          },
          "execution_count": 5
        }
      ]
    },
    {
      "cell_type": "code",
      "metadata": {
        "id": "EkpkwXRtQg1r",
        "colab_type": "code",
        "colab": {
          "base_uri": "https://localhost:8080/",
          "height": 558
        },
        "outputId": "bd8eec73-7c05-4518-d7bb-cc5985cf7fa9"
      },
      "source": [
        "# Visualize the closing price history\n",
        "plt.figure(figsize=(16,8))\n",
        "plt.title('Close Price')\n",
        "plt.plot(df['Close'])\n",
        "plt.xlabel('Date', fontsize=18)\n",
        "plt.ylabel('Close Price($)', fontsize=18)\n",
        "plt.show()"
      ],
      "execution_count": 7,
      "outputs": [
        {
          "output_type": "display_data",
          "data": {
            "image/png": "[encoded data removed]",
            "text/plain": [
              "<Figure size 1152x576 with 1 Axes>"
            ]
          },
          "metadata": {
            "tags": []
          }
        }
      ]
    },
    {
      "cell_type": "code",
      "metadata": {
        "id": "9qpigDNRRaOB",
        "colab_type": "code",
        "colab": {
          "base_uri": "https://localhost:8080/",
          "height": 35
        },
        "outputId": "0b9030f5-4a32-4355-f595-9f1d58ecca40"
      },
      "source": [
        "# Create a new dataframe with only the \"Close\" column\n",
        "close_data = df.filter(['Close'])\n",
        "\n",
        "# Convert the dataframe to a numpy array\n",
        "dataset = close_data.values\n",
        "\n",
        "# Get the number of rows \n",
        "training_data_len = math.ceil(len(dataset) * .8)\n",
        "\n",
        "# Print the training data length\n",
        "training_data_len"
      ],
      "execution_count": 8,
      "outputs": [
        {
          "output_type": "execute_result",
          "data": {
            "text/plain": [
              "1709"
            ]
          },
          "metadata": {
            "tags": []
          },
          "execution_count": 8
        }
      ]
    },
    {
      "cell_type": "code",
      "metadata": {
        "id": "LLI1SEr3TYV8",
        "colab_type": "code",
        "colab": {
          "base_uri": "https://localhost:8080/",
          "height": 139
        },
        "outputId": "d6c9cead-c8f3-4ca1-82fb-4fcb048864e1"
      },
      "source": [
        "# Scale the data \n",
        "scaler = MinMaxScaler(feature_range=(0,1))\n",
        "scaled_data = scaler.fit_transform(dataset)\n",
        "\n",
        "scaled_data"
      ],
      "execution_count": 9,
      "outputs": [
        {
          "output_type": "execute_result",
          "data": {
            "text/plain": [
              "array([[0.00951645],\n",
              "       [0.01053246],\n",
              "       [0.01264263],\n",
              "       ...,\n",
              "       [0.99456136],\n",
              "       [0.95848621],\n",
              "       [0.98471391]])"
            ]
          },
          "metadata": {
            "tags": []
          },
          "execution_count": 9
        }
      ]
    },
    {
      "cell_type": "code",
      "metadata": {
        "id": "QI7pWsgdT_ID",
        "colab_type": "code",
        "colab": {
          "base_uri": "https://localhost:8080/",
          "height": 693
        },
        "outputId": "56725482-e38f-42f5-dcc8-470c464b340c"
      },
      "source": [
        "# Create the training dataset\n",
        "\n",
        "# Create the scaled training dataset\n",
        "train_data = scaled_data[0:training_data_len, :]\n",
        "\n",
        "# Split the data into train and test data\n",
        "x_train= []\n",
        "y_train= []\n",
        "\n",
        "for i in range(60, len(train_data)):\n",
        "  x_train.append(train_data[i-60:i, 0])\n",
        "  y_train.append(train_data[i, 0])\n",
        "  if i <= 61:\n",
        "    print(x_train)\n",
        "    print(y_train)\n",
        "    print()\n",
        "\n"
      ],
      "execution_count": 12,
      "outputs": [
        {
          "output_type": "stream",
          "text": [
            "[array([0.00951645, 0.01053246, 0.01264263, 0.01465166, 0.01434364,\n",
            "       0.01503783, 0.01472061, 0.01418732, 0.01346096, 0.01570904,\n",
            "       0.01773646, 0.01711123, 0.01368622, 0.01695491, 0.01373679,\n",
            "       0.02580476, 0.0248715 , 0.0260898 , 0.02872405, 0.03031932,\n",
            "       0.030186  , 0.02969409, 0.03179047, 0.03376271, 0.03599702,\n",
            "       0.03960592, 0.0471869 , 0.04730183, 0.05152218, 0.05467593,\n",
            "       0.04925568, 0.05134287, 0.0513015 , 0.0571539 , 0.05632177,\n",
            "       0.05786186, 0.06062945, 0.06216957, 0.06660598, 0.06983791,\n",
            "       0.07077114, 0.07109757, 0.06557159, 0.06423835, 0.06443605,\n",
            "       0.06963101, 0.07109297, 0.07423292, 0.08163462, 0.09150967,\n",
            "       0.08966154, 0.08966613, 0.09680578, 0.09904007, 0.0974494 ,\n",
            "       0.09599666, 0.09448414, 0.09950899, 0.102957  , 0.10440056])]\n",
            "[0.10083302902752131]\n",
            "\n",
            "[array([0.00951645, 0.01053246, 0.01264263, 0.01465166, 0.01434364,\n",
            "       0.01503783, 0.01472061, 0.01418732, 0.01346096, 0.01570904,\n",
            "       0.01773646, 0.01711123, 0.01368622, 0.01695491, 0.01373679,\n",
            "       0.02580476, 0.0248715 , 0.0260898 , 0.02872405, 0.03031932,\n",
            "       0.030186  , 0.02969409, 0.03179047, 0.03376271, 0.03599702,\n",
            "       0.03960592, 0.0471869 , 0.04730183, 0.05152218, 0.05467593,\n",
            "       0.04925568, 0.05134287, 0.0513015 , 0.0571539 , 0.05632177,\n",
            "       0.05786186, 0.06062945, 0.06216957, 0.06660598, 0.06983791,\n",
            "       0.07077114, 0.07109757, 0.06557159, 0.06423835, 0.06443605,\n",
            "       0.06963101, 0.07109297, 0.07423292, 0.08163462, 0.09150967,\n",
            "       0.08966154, 0.08966613, 0.09680578, 0.09904007, 0.0974494 ,\n",
            "       0.09599666, 0.09448414, 0.09950899, 0.102957  , 0.10440056]), array([0.01053246, 0.01264263, 0.01465166, 0.01434364, 0.01503783,\n",
            "       0.01472061, 0.01418732, 0.01346096, 0.01570904, 0.01773646,\n",
            "       0.01711123, 0.01368622, 0.01695491, 0.01373679, 0.02580476,\n",
            "       0.0248715 , 0.0260898 , 0.02872405, 0.03031932, 0.030186  ,\n",
            "       0.02969409, 0.03179047, 0.03376271, 0.03599702, 0.03960592,\n",
            "       0.0471869 , 0.04730183, 0.05152218, 0.05467593, 0.04925568,\n",
            "       0.05134287, 0.0513015 , 0.0571539 , 0.05632177, 0.05786186,\n",
            "       0.06062945, 0.06216957, 0.06660598, 0.06983791, 0.07077114,\n",
            "       0.07109757, 0.06557159, 0.06423835, 0.06443605, 0.06963101,\n",
            "       0.07109297, 0.07423292, 0.08163462, 0.09150967, 0.08966154,\n",
            "       0.08966613, 0.09680578, 0.09904007, 0.0974494 , 0.09599666,\n",
            "       0.09448414, 0.09950899, 0.102957  , 0.10440056, 0.10083303])]\n",
            "[0.10083302902752131, 0.09609319950965048]\n",
            "\n"
          ],
          "name": "stdout"
        }
      ]
    },
    {
      "cell_type": "code",
      "metadata": {
        "id": "94ecsWaTVxTx",
        "colab_type": "code",
        "colab": {}
      },
      "source": [
        "# Convert the train and test values to numpy arrays to build the LSTM module\n",
        "x_train, y_train = np.array(x_train), np.array(y_train)"
      ],
      "execution_count": 13,
      "outputs": []
    },
    {
      "cell_type": "code",
      "metadata": {
        "id": "7d1BZh9ZW61B",
        "colab_type": "code",
        "colab": {
          "base_uri": "https://localhost:8080/",
          "height": 35
        },
        "outputId": "43d7b7f4-280d-4d9d-aeae-e30192fd222c"
      },
      "source": [
        "# Reshape the data\n",
        "x_train = np.reshape(x_train, (x_train.shape[0], x_train.shape[1], 1))\n",
        "x_train.shape\n"
      ],
      "execution_count": 14,
      "outputs": [
        {
          "output_type": "execute_result",
          "data": {
            "text/plain": [
              "(1649, 60, 1)"
            ]
          },
          "metadata": {
            "tags": []
          },
          "execution_count": 14
        }
      ]
    },
    {
      "cell_type": "code",
      "metadata": {
        "id": "lpw0svUaXxqH",
        "colab_type": "code",
        "colab": {}
      },
      "source": [
        "# Build the LSTM model \n",
        "model = Sequential()\n",
        "model.add(LSTM(50, return_sequences=True, input_shape=(x_train.shape[1],1)))\n",
        "model.add(LSTM(50, return_sequences=False))\n",
        "model.add(Dense(32, input_shape=(16,)))\n",
        "model.add(Dense(1))"
      ],
      "execution_count": 18,
      "outputs": []
    },
    {
      "cell_type": "code",
      "metadata": {
        "id": "jVZeRZkrZIA6",
        "colab_type": "code",
        "colab": {}
      },
      "source": [
        "# Compile the model\n",
        "model.compile(optimizer='adam', loss='mean_squared_error')"
      ],
      "execution_count": 19,
      "outputs": []
    },
    {
      "cell_type": "code",
      "metadata": {
        "id": "eGohUHKtaCk2",
        "colab_type": "code",
        "colab": {
          "base_uri": "https://localhost:8080/",
          "height": 69
        },
        "outputId": "895e95a3-241b-4b1c-8f50-53a11a8ed43b"
      },
      "source": [
        "# Train the model\n",
        "model.fit(x_train, y_train, batch_size=1, epochs=1)"
      ],
      "execution_count": 20,
      "outputs": [
        {
          "output_type": "stream",
          "text": [
            "Epoch 1/1\n",
            "1649/1649 [==============================] - 66s 40ms/step - loss: 4.7856e-04\n"
          ],
          "name": "stdout"
        },
        {
          "output_type": "execute_result",
          "data": {
            "text/plain": [
              "<keras.callbacks.callbacks.History at 0x7f3ede4de630>"
            ]
          },
          "metadata": {
            "tags": []
          },
          "execution_count": 20
        }
      ]
    },
    {
      "cell_type": "code",
      "metadata": {
        "id": "tGckTaTVadDL",
        "colab_type": "code",
        "colab": {}
      },
      "source": [
        "# Create the test dataset\n",
        "test_data = scaled_data[training_data_len - 60: , :]\n",
        "\n",
        "# Create the x_test and y_test datasets\n",
        "x_test= []\n",
        "y_test= dataset[training_data_len:, :]\n",
        "\n",
        "for i in range(60, len(test_data)):\n",
        "  x_test.append(test_data[i-60: i,0])"
      ],
      "execution_count": 21,
      "outputs": []
    },
    {
      "cell_type": "code",
      "metadata": {
        "id": "YkZ44uC7cRqI",
        "colab_type": "code",
        "colab": {}
      },
      "source": [
        "# Convert the values to a numpy.array\n",
        "x_test = np.array(x_test)\n"
      ],
      "execution_count": 22,
      "outputs": []
    },
    {
      "cell_type": "code",
      "metadata": {
        "id": "pjRgojIZcq9z",
        "colab_type": "code",
        "colab": {}
      },
      "source": [
        "# Reshape the data into a three dimensional shape\n",
        "x_test = np.reshape(x_test, (x_test.shape[0], x_test.shape[1], 1))\n"
      ],
      "execution_count": 23,
      "outputs": []
    },
    {
      "cell_type": "code",
      "metadata": {
        "id": "650_P_QudQzp",
        "colab_type": "code",
        "colab": {}
      },
      "source": [
        "# Get the models predicted price values\n",
        "predictions = model.predict(x_test)\n",
        "predictions = scaler.inverse_transform(predictions) "
      ],
      "execution_count": 24,
      "outputs": []
    },
    {
      "cell_type": "code",
      "metadata": {
        "id": "FBTdy-Ijd8kj",
        "colab_type": "code",
        "colab": {
          "base_uri": "https://localhost:8080/",
          "height": 35
        },
        "outputId": "3f1e2fdd-d4d2-4e8c-e2d3-40892d5446fb"
      },
      "source": [
        "# Get the RMSE for the model\n",
        "rmse = np.sqrt(np.mean(predictions - y_test)**2)\n",
        "rmse"
      ],
      "execution_count": 25,
      "outputs": [
        {
          "output_type": "execute_result",
          "data": {
            "text/plain": [
              "0.806124291877836"
            ]
          },
          "metadata": {
            "tags": []
          },
          "execution_count": 25
        }
      ]
    },
    {
      "cell_type": "code",
      "metadata": {
        "id": "-WnIXGjLeakk",
        "colab_type": "code",
        "colab": {
          "base_uri": "https://localhost:8080/",
          "height": 662
        },
        "outputId": "08e88134-3e0c-4971-c4a1-24af53232139"
      },
      "source": [
        "# Plot the data\n",
        "train = close_data [:training_data_len]\n",
        "valid = close_data[training_data_len:]\n",
        "valid['Predictions'] = predictions\n",
        "\n",
        "# Visualize the data\n",
        "plt.figure(figsize=(16,8))\n",
        "plt.title('Prediction Model')\n",
        "plt.xlabel('Date', fontsize=18)\n",
        "plt.ylabel('Close Price($)', fontsize=18)\n",
        "plt.plot(train['Close'])\n",
        "plt.plot(valid[['Close','Predictions']])\n",
        "plt.legend(['Train','Valid','Prediction'], loc='lower right')\n",
        "plt.show()\n"
      ],
      "execution_count": 28,
      "outputs": [
        {
          "output_type": "stream",
          "text": [
            "/usr/local/lib/python3.6/dist-packages/ipykernel_launcher.py:4: SettingWithCopyWarning: \n",
            "A value is trying to be set on a copy of a slice from a DataFrame.\n",
            "Try using .loc[row_indexer,col_indexer] = value instead\n",
            "\n",
            "See the caveats in the documentation: https://pandas.pydata.org/pandas-docs/stable/user_guide/indexing.html#returning-a-view-versus-a-copy\n",
            "  after removing the cwd from sys.path.\n"
          ],
          "name": "stderr"
        },
        {
          "output_type": "display_data",
          "data": {
            "image/png": "[encoded data removed]",
            "text/plain": [
              "<Figure size 1152x576 with 1 Axes>"
            ]
          },
          "metadata": {
            "tags": []
          }
        }
      ]
    },
    {
      "cell_type": "code",
      "metadata": {
        "id": "towavro1gljz",
        "colab_type": "code",
        "colab": {
          "base_uri": "https://localhost:8080/",
          "height": 446
        },
        "outputId": "4abb3b49-b245-4e4a-e730-dd2df19af367"
      },
      "source": [
        "# Show the actual price and the predicted price\n",
        "valid"
      ],
      "execution_count": 29,
      "outputs": [
        {
          "output_type": "execute_result",
          "data": {
            "text/html": [
              "<div>\n",
              "<style scoped>\n",
              "    .dataframe tbody tr th:only-of-type {\n",
              "        vertical-align: middle;\n",
              "    }\n",
              "\n",
              "    .dataframe tbody tr th {\n",
              "        vertical-align: top;\n",
              "    }\n",
              "\n",
              "    .dataframe thead th {\n",
              "        text-align: right;\n",
              "    }\n",
              "</style>\n",
              "<table border=\"1\" class=\"dataframe\">\n",
              "  <thead>\n",
              "    <tr style=\"text-align: right;\">\n",
              "      <th></th>\n",
              "      <th>Close</th>\n",
              "      <th>Predictions</th>\n",
              "    </tr>\n",
              "    <tr>\n",
              "      <th>Date</th>\n",
              "      <th></th>\n",
              "      <th></th>\n",
              "    </tr>\n",
              "  </thead>\n",
              "  <tbody>\n",
              "    <tr>\n",
              "      <th>2018-10-17</th>\n",
              "      <td>221.190002</td>\n",
              "      <td>224.241211</td>\n",
              "    </tr>\n",
              "    <tr>\n",
              "      <th>2018-10-18</th>\n",
              "      <td>216.020004</td>\n",
              "      <td>224.137039</td>\n",
              "    </tr>\n",
              "    <tr>\n",
              "      <th>2018-10-19</th>\n",
              "      <td>219.309998</td>\n",
              "      <td>223.505310</td>\n",
              "    </tr>\n",
              "    <tr>\n",
              "      <th>2018-10-22</th>\n",
              "      <td>220.649994</td>\n",
              "      <td>223.150620</td>\n",
              "    </tr>\n",
              "    <tr>\n",
              "      <th>2018-10-23</th>\n",
              "      <td>222.729996</td>\n",
              "      <td>223.110916</td>\n",
              "    </tr>\n",
              "    <tr>\n",
              "      <th>...</th>\n",
              "      <td>...</td>\n",
              "      <td>...</td>\n",
              "    </tr>\n",
              "    <tr>\n",
              "      <th>2020-06-23</th>\n",
              "      <td>366.529999</td>\n",
              "      <td>344.804535</td>\n",
              "    </tr>\n",
              "    <tr>\n",
              "      <th>2020-06-24</th>\n",
              "      <td>360.059998</td>\n",
              "      <td>347.691345</td>\n",
              "    </tr>\n",
              "    <tr>\n",
              "      <th>2020-06-25</th>\n",
              "      <td>364.839996</td>\n",
              "      <td>349.725708</td>\n",
              "    </tr>\n",
              "    <tr>\n",
              "      <th>2020-06-26</th>\n",
              "      <td>353.630005</td>\n",
              "      <td>351.790649</td>\n",
              "    </tr>\n",
              "    <tr>\n",
              "      <th>2020-06-29</th>\n",
              "      <td>361.779999</td>\n",
              "      <td>352.187653</td>\n",
              "    </tr>\n",
              "  </tbody>\n",
              "</table>\n",
              "<p>427 rows × 2 columns</p>\n",
              "</div>"
            ],
            "text/plain": [
              "                 Close  Predictions\n",
              "Date                               \n",
              "2018-10-17  221.190002   224.241211\n",
              "2018-10-18  216.020004   224.137039\n",
              "2018-10-19  219.309998   223.505310\n",
              "2018-10-22  220.649994   223.150620\n",
              "2018-10-23  222.729996   223.110916\n",
              "...                ...          ...\n",
              "2020-06-23  366.529999   344.804535\n",
              "2020-06-24  360.059998   347.691345\n",
              "2020-06-25  364.839996   349.725708\n",
              "2020-06-26  353.630005   351.790649\n",
              "2020-06-29  361.779999   352.187653\n",
              "\n",
              "[427 rows x 2 columns]"
            ]
          },
          "metadata": {
            "tags": []
          },
          "execution_count": 29
        }
      ]
    },
    {
      "cell_type": "markdown",
      "metadata": {
        "id": "njmzJcdQjkPz",
        "colab_type": "text"
      },
      "source": [
        "The Model has proven to be quite exceptional in its prediction with an accuracy or RMSE of 0.8."
      ]
    },
    {
      "cell_type": "code",
      "metadata": {
        "id": "aVy8s7o1iNee",
        "colab_type": "code",
        "colab": {}
      },
      "source": [
        ""
      ],
      "execution_count": null,
      "outputs": []
    }
  ]
}