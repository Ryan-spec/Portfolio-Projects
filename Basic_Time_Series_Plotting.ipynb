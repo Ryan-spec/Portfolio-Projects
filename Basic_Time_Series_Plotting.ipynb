{
  "nbformat": 4,
  "nbformat_minor": 0,
  "metadata": {
    "colab": {
      "name": "Basic Time Series Plotting.ipynb",
      "provenance": [],
      "collapsed_sections": [],
      "authorship_tag": "ABX9TyPMxDjNeL/aMLRj9ojxhLHp",
      "include_colab_link": true
    },
    "kernelspec": {
      "name": "python3",
      "display_name": "Python 3"
    }
  },
  "cells": [
    {
      "cell_type": "markdown",
      "metadata": {
        "id": "view-in-github",
        "colab_type": "text"
      },
      "source": [
        "<a href=\"https://colab.research.google.com/github/Ryan-spec/Portfolio-Projects/blob/master/Basic_Time_Series_Plotting.ipynb\" target=\"_parent\"><img src=\"https://colab.research.google.com/assets/colab-badge.svg\" alt=\"Open In Colab\"/></a>"
      ]
    },
    {
      "cell_type": "markdown",
      "metadata": {
        "id": "UX_fjw-UJbfc",
        "colab_type": "text"
      },
      "source": [
        "# Time Series Basic Plotting"
      ]
    },
    {
      "cell_type": "code",
      "metadata": {
        "id": "5c_XBBueJM67",
        "colab_type": "code",
        "colab": {}
      },
      "source": [
        "import numpy as np\n",
        "import pandas as pd\n",
        "import matplotlib.pyplot as plt\n",
        "%matplotlib inline\n",
        "from sklearn.linear_model import LinearRegression\n",
        "from pandas.util.testing import assert_frame_equal "
      ],
      "execution_count": 39,
      "outputs": []
    },
    {
      "cell_type": "code",
      "metadata": {
        "id": "THhPVb77Jc3I",
        "colab_type": "code",
        "colab": {
          "resources": {
            "http://localhost:8080/nbextensions/google.colab/files.js": {
              "data": "Ly8gQ29weXJpZ2h0IDIwMTcgR29vZ2xlIExMQwovLwovLyBMaWNlbnNlZCB1bmRlciB0aGUgQXBhY2hlIExpY2Vuc2UsIFZlcnNpb24gMi4wICh0aGUgIkxpY2Vuc2UiKTsKLy8geW91IG1heSBub3QgdXNlIHRoaXMgZmlsZSBleGNlcHQgaW4gY29tcGxpYW5jZSB3aXRoIHRoZSBMaWNlbnNlLgovLyBZb3UgbWF5IG9idGFpbiBhIGNvcHkgb2YgdGhlIExpY2Vuc2UgYXQKLy8KLy8gICAgICBodHRwOi8vd3d3LmFwYWNoZS5vcmcvbGljZW5zZXMvTElDRU5TRS0yLjAKLy8KLy8gVW5sZXNzIHJlcXVpcmVkIGJ5IGFwcGxpY2FibGUgbGF3IG9yIGFncmVlZCB0byBpbiB3cml0aW5nLCBzb2Z0d2FyZQovLyBkaXN0cmlidXRlZCB1bmRlciB0aGUgTGljZW5zZSBpcyBkaXN0cmlidXRlZCBvbiBhbiAiQVMgSVMiIEJBU0lTLAovLyBXSVRIT1VUIFdBUlJBTlRJRVMgT1IgQ09ORElUSU9OUyBPRiBBTlkgS0lORCwgZWl0aGVyIGV4cHJlc3Mgb3IgaW1wbGllZC4KLy8gU2VlIHRoZSBMaWNlbnNlIGZvciB0aGUgc3BlY2lmaWMgbGFuZ3VhZ2UgZ292ZXJuaW5nIHBlcm1pc3Npb25zIGFuZAovLyBsaW1pdGF0aW9ucyB1bmRlciB0aGUgTGljZW5zZS4KCi8qKgogKiBAZmlsZW92ZXJ2aWV3IEhlbHBlcnMgZm9yIGdvb2dsZS5jb2xhYiBQeXRob24gbW9kdWxlLgogKi8KKGZ1bmN0aW9uKHNjb3BlKSB7CmZ1bmN0aW9uIHNwYW4odGV4dCwgc3R5bGVBdHRyaWJ1dGVzID0ge30pIHsKICBjb25zdCBlbGVtZW50ID0gZG9jdW1lbnQuY3JlYXRlRWxlbWVudCgnc3BhbicpOwogIGVsZW1lbnQudGV4dENvbnRlbnQgPSB0ZXh0OwogIGZvciAoY29uc3Qga2V5IG9mIE9iamVjdC5rZXlzKHN0eWxlQXR0cmlidXRlcykpIHsKICAgIGVsZW1lbnQuc3R5bGVba2V5XSA9IHN0eWxlQXR0cmlidXRlc1trZXldOwogIH0KICByZXR1cm4gZWxlbWVudDsKfQoKLy8gTWF4IG51bWJlciBvZiBieXRlcyB3aGljaCB3aWxsIGJlIHVwbG9hZGVkIGF0IGEgdGltZS4KY29uc3QgTUFYX1BBWUxPQURfU0laRSA9IDEwMCAqIDEwMjQ7CgpmdW5jdGlvbiBfdXBsb2FkRmlsZXMoaW5wdXRJZCwgb3V0cHV0SWQpIHsKICBjb25zdCBzdGVwcyA9IHVwbG9hZEZpbGVzU3RlcChpbnB1dElkLCBvdXRwdXRJZCk7CiAgY29uc3Qgb3V0cHV0RWxlbWVudCA9IGRvY3VtZW50LmdldEVsZW1lbnRCeUlkKG91dHB1dElkKTsKICAvLyBDYWNoZSBzdGVwcyBvbiB0aGUgb3V0cHV0RWxlbWVudCB0byBtYWtlIGl0IGF2YWlsYWJsZSBmb3IgdGhlIG5leHQgY2FsbAogIC8vIHRvIHVwbG9hZEZpbGVzQ29udGludWUgZnJvbSBQeXRob24uCiAgb3V0cHV0RWxlbWVudC5zdGVwcyA9IHN0ZXBzOwoKICByZXR1cm4gX3VwbG9hZEZpbGVzQ29udGludWUob3V0cHV0SWQpOwp9CgovLyBUaGlzIGlzIHJvdWdobHkgYW4gYXN5bmMgZ2VuZXJhdG9yIChub3Qgc3VwcG9ydGVkIGluIHRoZSBicm93c2VyIHlldCksCi8vIHdoZXJlIHRoZXJlIGFyZSBtdWx0aXBsZSBhc3luY2hyb25vdXMgc3RlcHMgYW5kIHRoZSBQeXRob24gc2lkZSBpcyBnb2luZwovLyB0byBwb2xsIGZvciBjb21wbGV0aW9uIG9mIGVhY2ggc3RlcC4KLy8gVGhpcyB1c2VzIGEgUHJvbWlzZSB0byBibG9jayB0aGUgcHl0aG9uIHNpZGUgb24gY29tcGxldGlvbiBvZiBlYWNoIHN0ZXAsCi8vIHRoZW4gcGFzc2VzIHRoZSByZXN1bHQgb2YgdGhlIHByZXZpb3VzIHN0ZXAgYXMgdGhlIGlucHV0IHRvIHRoZSBuZXh0IHN0ZXAuCmZ1bmN0aW9uIF91cGxvYWRGaWxlc0NvbnRpbnVlKG91dHB1dElkKSB7CiAgY29uc3Qgb3V0cHV0RWxlbWVudCA9IGRvY3VtZW50LmdldEVsZW1lbnRCeUlkKG91dHB1dElkKTsKICBjb25zdCBzdGVwcyA9IG91dHB1dEVsZW1lbnQuc3RlcHM7CgogIGNvbnN0IG5leHQgPSBzdGVwcy5uZXh0KG91dHB1dEVsZW1lbnQubGFzdFByb21pc2VWYWx1ZSk7CiAgcmV0dXJuIFByb21pc2UucmVzb2x2ZShuZXh0LnZhbHVlLnByb21pc2UpLnRoZW4oKHZhbHVlKSA9PiB7CiAgICAvLyBDYWNoZSB0aGUgbGFzdCBwcm9taXNlIHZhbHVlIHRvIG1ha2UgaXQgYXZhaWxhYmxlIHRvIHRoZSBuZXh0CiAgICAvLyBzdGVwIG9mIHRoZSBnZW5lcmF0b3IuCiAgICBvdXRwdXRFbGVtZW50Lmxhc3RQcm9taXNlVmFsdWUgPSB2YWx1ZTsKICAgIHJldHVybiBuZXh0LnZhbHVlLnJlc3BvbnNlOwogIH0pOwp9CgovKioKICogR2VuZXJhdG9yIGZ1bmN0aW9uIHdoaWNoIGlzIGNhbGxlZCBiZXR3ZWVuIGVhY2ggYXN5bmMgc3RlcCBvZiB0aGUgdXBsb2FkCiAqIHByb2Nlc3MuCiAqIEBwYXJhbSB7c3RyaW5nfSBpbnB1dElkIEVsZW1lbnQgSUQgb2YgdGhlIGlucHV0IGZpbGUgcGlja2VyIGVsZW1lbnQuCiAqIEBwYXJhbSB7c3RyaW5nfSBvdXRwdXRJZCBFbGVtZW50IElEIG9mIHRoZSBvdXRwdXQgZGlzcGxheS4KICogQHJldHVybiB7IUl0ZXJhYmxlPCFPYmplY3Q+fSBJdGVyYWJsZSBvZiBuZXh0IHN0ZXBzLgogKi8KZnVuY3Rpb24qIHVwbG9hZEZpbGVzU3RlcChpbnB1dElkLCBvdXRwdXRJZCkgewogIGNvbnN0IGlucHV0RWxlbWVudCA9IGRvY3VtZW50LmdldEVsZW1lbnRCeUlkKGlucHV0SWQpOwogIGlucHV0RWxlbWVudC5kaXNhYmxlZCA9IGZhbHNlOwoKICBjb25zdCBvdXRwdXRFbGVtZW50ID0gZG9jdW1lbnQuZ2V0RWxlbWVudEJ5SWQob3V0cHV0SWQpOwogIG91dHB1dEVsZW1lbnQuaW5uZXJIVE1MID0gJyc7CgogIGNvbnN0IHBpY2tlZFByb21pc2UgPSBuZXcgUHJvbWlzZSgocmVzb2x2ZSkgPT4gewogICAgaW5wdXRFbGVtZW50LmFkZEV2ZW50TGlzdGVuZXIoJ2NoYW5nZScsIChlKSA9PiB7CiAgICAgIHJlc29sdmUoZS50YXJnZXQuZmlsZXMpOwogICAgfSk7CiAgfSk7CgogIGNvbnN0IGNhbmNlbCA9IGRvY3VtZW50LmNyZWF0ZUVsZW1lbnQoJ2J1dHRvbicpOwogIGlucHV0RWxlbWVudC5wYXJlbnRFbGVtZW50LmFwcGVuZENoaWxkKGNhbmNlbCk7CiAgY2FuY2VsLnRleHRDb250ZW50ID0gJ0NhbmNlbCB1cGxvYWQnOwogIGNvbnN0IGNhbmNlbFByb21pc2UgPSBuZXcgUHJvbWlzZSgocmVzb2x2ZSkgPT4gewogICAgY2FuY2VsLm9uY2xpY2sgPSAoKSA9PiB7CiAgICAgIHJlc29sdmUobnVsbCk7CiAgICB9OwogIH0pOwoKICAvLyBXYWl0IGZvciB0aGUgdXNlciB0byBwaWNrIHRoZSBmaWxlcy4KICBjb25zdCBmaWxlcyA9IHlpZWxkIHsKICAgIHByb21pc2U6IFByb21pc2UucmFjZShbcGlja2VkUHJvbWlzZSwgY2FuY2VsUHJvbWlzZV0pLAogICAgcmVzcG9uc2U6IHsKICAgICAgYWN0aW9uOiAnc3RhcnRpbmcnLAogICAgfQogIH07CgogIGNhbmNlbC5yZW1vdmUoKTsKCiAgLy8gRGlzYWJsZSB0aGUgaW5wdXQgZWxlbWVudCBzaW5jZSBmdXJ0aGVyIHBpY2tzIGFyZSBub3QgYWxsb3dlZC4KICBpbnB1dEVsZW1lbnQuZGlzYWJsZWQgPSB0cnVlOwoKICBpZiAoIWZpbGVzKSB7CiAgICByZXR1cm4gewogICAgICByZXNwb25zZTogewogICAgICAgIGFjdGlvbjogJ2NvbXBsZXRlJywKICAgICAgfQogICAgfTsKICB9CgogIGZvciAoY29uc3QgZmlsZSBvZiBmaWxlcykgewogICAgY29uc3QgbGkgPSBkb2N1bWVudC5jcmVhdGVFbGVtZW50KCdsaScpOwogICAgbGkuYXBwZW5kKHNwYW4oZmlsZS5uYW1lLCB7Zm9udFdlaWdodDogJ2JvbGQnfSkpOwogICAgbGkuYXBwZW5kKHNwYW4oCiAgICAgICAgYCgke2ZpbGUudHlwZSB8fCAnbi9hJ30pIC0gJHtmaWxlLnNpemV9IGJ5dGVzLCBgICsKICAgICAgICBgbGFzdCBtb2RpZmllZDogJHsKICAgICAgICAgICAgZmlsZS5sYXN0TW9kaWZpZWREYXRlID8gZmlsZS5sYXN0TW9kaWZpZWREYXRlLnRvTG9jYWxlRGF0ZVN0cmluZygpIDoKICAgICAgICAgICAgICAgICAgICAgICAgICAgICAgICAgICAgJ24vYSd9IC0gYCkpOwogICAgY29uc3QgcGVyY2VudCA9IHNwYW4oJzAlIGRvbmUnKTsKICAgIGxpLmFwcGVuZENoaWxkKHBlcmNlbnQpOwoKICAgIG91dHB1dEVsZW1lbnQuYXBwZW5kQ2hpbGQobGkpOwoKICAgIGNvbnN0IGZpbGVEYXRhUHJvbWlzZSA9IG5ldyBQcm9taXNlKChyZXNvbHZlKSA9PiB7CiAgICAgIGNvbnN0IHJlYWRlciA9IG5ldyBGaWxlUmVhZGVyKCk7CiAgICAgIHJlYWRlci5vbmxvYWQgPSAoZSkgPT4gewogICAgICAgIHJlc29sdmUoZS50YXJnZXQucmVzdWx0KTsKICAgICAgfTsKICAgICAgcmVhZGVyLnJlYWRBc0FycmF5QnVmZmVyKGZpbGUpOwogICAgfSk7CiAgICAvLyBXYWl0IGZvciB0aGUgZGF0YSB0byBiZSByZWFkeS4KICAgIGxldCBmaWxlRGF0YSA9IHlpZWxkIHsKICAgICAgcHJvbWlzZTogZmlsZURhdGFQcm9taXNlLAogICAgICByZXNwb25zZTogewogICAgICAgIGFjdGlvbjogJ2NvbnRpbnVlJywKICAgICAgfQogICAgfTsKCiAgICAvLyBVc2UgYSBjaHVua2VkIHNlbmRpbmcgdG8gYXZvaWQgbWVzc2FnZSBzaXplIGxpbWl0cy4gU2VlIGIvNjIxMTU2NjAuCiAgICBsZXQgcG9zaXRpb24gPSAwOwogICAgd2hpbGUgKHBvc2l0aW9uIDwgZmlsZURhdGEuYnl0ZUxlbmd0aCkgewogICAgICBjb25zdCBsZW5ndGggPSBNYXRoLm1pbihmaWxlRGF0YS5ieXRlTGVuZ3RoIC0gcG9zaXRpb24sIE1BWF9QQVlMT0FEX1NJWkUpOwogICAgICBjb25zdCBjaHVuayA9IG5ldyBVaW50OEFycmF5KGZpbGVEYXRhLCBwb3NpdGlvbiwgbGVuZ3RoKTsKICAgICAgcG9zaXRpb24gKz0gbGVuZ3RoOwoKICAgICAgY29uc3QgYmFzZTY0ID0gYnRvYShTdHJpbmcuZnJvbUNoYXJDb2RlLmFwcGx5KG51bGwsIGNodW5rKSk7CiAgICAgIHlpZWxkIHsKICAgICAgICByZXNwb25zZTogewogICAgICAgICAgYWN0aW9uOiAnYXBwZW5kJywKICAgICAgICAgIGZpbGU6IGZpbGUubmFtZSwKICAgICAgICAgIGRhdGE6IGJhc2U2NCwKICAgICAgICB9LAogICAgICB9OwogICAgICBwZXJjZW50LnRleHRDb250ZW50ID0KICAgICAgICAgIGAke01hdGgucm91bmQoKHBvc2l0aW9uIC8gZmlsZURhdGEuYnl0ZUxlbmd0aCkgKiAxMDApfSUgZG9uZWA7CiAgICB9CiAgfQoKICAvLyBBbGwgZG9uZS4KICB5aWVsZCB7CiAgICByZXNwb25zZTogewogICAgICBhY3Rpb246ICdjb21wbGV0ZScsCiAgICB9CiAgfTsKfQoKc2NvcGUuZ29vZ2xlID0gc2NvcGUuZ29vZ2xlIHx8IHt9OwpzY29wZS5nb29nbGUuY29sYWIgPSBzY29wZS5nb29nbGUuY29sYWIgfHwge307CnNjb3BlLmdvb2dsZS5jb2xhYi5fZmlsZXMgPSB7CiAgX3VwbG9hZEZpbGVzLAogIF91cGxvYWRGaWxlc0NvbnRpbnVlLAp9Owp9KShzZWxmKTsK",
              "ok": true,
              "headers": [
                [
                  "content-type",
                  "application/javascript"
                ]
              ],
              "status": 200,
              "status_text": ""
            }
          },
          "base_uri": "https://localhost:8080/",
          "height": 73
        },
        "outputId": "49d18c7c-ddec-4836-c7d2-9ab5a7bdd440"
      },
      "source": [
        "# Load the data\n",
        "from google.colab import files\n",
        "uploaded = files.upload()"
      ],
      "execution_count": 40,
      "outputs": [
        {
          "output_type": "display_data",
          "data": {
            "text/html": [
              "\n",
              "     <input type=\"file\" id=\"files-e7a80c65-02fe-49f1-bc8a-ec28e48f7ee2\" name=\"files[]\" multiple disabled\n",
              "        style=\"border:none\" />\n",
              "     <output id=\"result-e7a80c65-02fe-49f1-bc8a-ec28e48f7ee2\">\n",
              "      Upload widget is only available when the cell has been executed in the\n",
              "      current browser session. Please rerun this cell to enable.\n",
              "      </output>\n",
              "      <script src=\"/nbextensions/google.colab/files.js\"></script> "
            ],
            "text/plain": [
              "<IPython.core.display.HTML object>"
            ]
          },
          "metadata": {
            "tags": []
          }
        },
        {
          "output_type": "stream",
          "text": [
            "Saving GOOG.csv to GOOG (1).csv\n"
          ],
          "name": "stdout"
        }
      ]
    },
    {
      "cell_type": "code",
      "metadata": {
        "id": "ho-GFiapKb-j",
        "colab_type": "code",
        "colab": {
          "base_uri": "https://localhost:8080/",
          "height": 202
        },
        "outputId": "66c4d128-fd98-42f4-fe8c-581616edc2d6"
      },
      "source": [
        "# Load the data into a dataframe and view the first 5 rows\n",
        "df = pd.read_csv('GOOG.csv')\n",
        "df.head()"
      ],
      "execution_count": 41,
      "outputs": [
        {
          "output_type": "execute_result",
          "data": {
            "text/html": [
              "<div>\n",
              "<style scoped>\n",
              "    .dataframe tbody tr th:only-of-type {\n",
              "        vertical-align: middle;\n",
              "    }\n",
              "\n",
              "    .dataframe tbody tr th {\n",
              "        vertical-align: top;\n",
              "    }\n",
              "\n",
              "    .dataframe thead th {\n",
              "        text-align: right;\n",
              "    }\n",
              "</style>\n",
              "<table border=\"1\" class=\"dataframe\">\n",
              "  <thead>\n",
              "    <tr style=\"text-align: right;\">\n",
              "      <th></th>\n",
              "      <th>Date</th>\n",
              "      <th>Open</th>\n",
              "      <th>High</th>\n",
              "      <th>Low</th>\n",
              "      <th>Close</th>\n",
              "      <th>Adj Close</th>\n",
              "      <th>Volume</th>\n",
              "    </tr>\n",
              "  </thead>\n",
              "  <tbody>\n",
              "    <tr>\n",
              "      <th>0</th>\n",
              "      <td>2019-06-24</td>\n",
              "      <td>1119.609985</td>\n",
              "      <td>1122.000000</td>\n",
              "      <td>1111.010010</td>\n",
              "      <td>1115.520020</td>\n",
              "      <td>1115.520020</td>\n",
              "      <td>1395600</td>\n",
              "    </tr>\n",
              "    <tr>\n",
              "      <th>1</th>\n",
              "      <td>2019-06-25</td>\n",
              "      <td>1112.660034</td>\n",
              "      <td>1114.349976</td>\n",
              "      <td>1083.800049</td>\n",
              "      <td>1086.349976</td>\n",
              "      <td>1086.349976</td>\n",
              "      <td>1546900</td>\n",
              "    </tr>\n",
              "    <tr>\n",
              "      <th>2</th>\n",
              "      <td>2019-06-26</td>\n",
              "      <td>1086.500000</td>\n",
              "      <td>1092.969971</td>\n",
              "      <td>1072.239990</td>\n",
              "      <td>1079.800049</td>\n",
              "      <td>1079.800049</td>\n",
              "      <td>1810900</td>\n",
              "    </tr>\n",
              "    <tr>\n",
              "      <th>3</th>\n",
              "      <td>2019-06-27</td>\n",
              "      <td>1084.000000</td>\n",
              "      <td>1087.099976</td>\n",
              "      <td>1075.290039</td>\n",
              "      <td>1076.010010</td>\n",
              "      <td>1076.010010</td>\n",
              "      <td>1004300</td>\n",
              "    </tr>\n",
              "    <tr>\n",
              "      <th>4</th>\n",
              "      <td>2019-06-28</td>\n",
              "      <td>1076.390015</td>\n",
              "      <td>1081.000000</td>\n",
              "      <td>1073.369995</td>\n",
              "      <td>1080.910034</td>\n",
              "      <td>1080.910034</td>\n",
              "      <td>1693200</td>\n",
              "    </tr>\n",
              "  </tbody>\n",
              "</table>\n",
              "</div>"
            ],
            "text/plain": [
              "         Date         Open         High  ...        Close    Adj Close   Volume\n",
              "0  2019-06-24  1119.609985  1122.000000  ...  1115.520020  1115.520020  1395600\n",
              "1  2019-06-25  1112.660034  1114.349976  ...  1086.349976  1086.349976  1546900\n",
              "2  2019-06-26  1086.500000  1092.969971  ...  1079.800049  1079.800049  1810900\n",
              "3  2019-06-27  1084.000000  1087.099976  ...  1076.010010  1076.010010  1004300\n",
              "4  2019-06-28  1076.390015  1081.000000  ...  1080.910034  1080.910034  1693200\n",
              "\n",
              "[5 rows x 7 columns]"
            ]
          },
          "metadata": {
            "tags": []
          },
          "execution_count": 41
        }
      ]
    },
    {
      "cell_type": "code",
      "metadata": {
        "id": "MFHI0BCQK1Ta",
        "colab_type": "code",
        "colab": {}
      },
      "source": [
        "df.drop(['Adj Close', 'Volume'], axis=1, inplace=True)"
      ],
      "execution_count": 42,
      "outputs": []
    },
    {
      "cell_type": "code",
      "metadata": {
        "id": "_zVhGfJaLXsZ",
        "colab_type": "code",
        "colab": {
          "base_uri": "https://localhost:8080/",
          "height": 202
        },
        "outputId": "e1fc4e10-56e9-4124-c5ed-5692f515d6a3"
      },
      "source": [
        "df.head()"
      ],
      "execution_count": 43,
      "outputs": [
        {
          "output_type": "execute_result",
          "data": {
            "text/html": [
              "<div>\n",
              "<style scoped>\n",
              "    .dataframe tbody tr th:only-of-type {\n",
              "        vertical-align: middle;\n",
              "    }\n",
              "\n",
              "    .dataframe tbody tr th {\n",
              "        vertical-align: top;\n",
              "    }\n",
              "\n",
              "    .dataframe thead th {\n",
              "        text-align: right;\n",
              "    }\n",
              "</style>\n",
              "<table border=\"1\" class=\"dataframe\">\n",
              "  <thead>\n",
              "    <tr style=\"text-align: right;\">\n",
              "      <th></th>\n",
              "      <th>Date</th>\n",
              "      <th>Open</th>\n",
              "      <th>High</th>\n",
              "      <th>Low</th>\n",
              "      <th>Close</th>\n",
              "    </tr>\n",
              "  </thead>\n",
              "  <tbody>\n",
              "    <tr>\n",
              "      <th>0</th>\n",
              "      <td>2019-06-24</td>\n",
              "      <td>1119.609985</td>\n",
              "      <td>1122.000000</td>\n",
              "      <td>1111.010010</td>\n",
              "      <td>1115.520020</td>\n",
              "    </tr>\n",
              "    <tr>\n",
              "      <th>1</th>\n",
              "      <td>2019-06-25</td>\n",
              "      <td>1112.660034</td>\n",
              "      <td>1114.349976</td>\n",
              "      <td>1083.800049</td>\n",
              "      <td>1086.349976</td>\n",
              "    </tr>\n",
              "    <tr>\n",
              "      <th>2</th>\n",
              "      <td>2019-06-26</td>\n",
              "      <td>1086.500000</td>\n",
              "      <td>1092.969971</td>\n",
              "      <td>1072.239990</td>\n",
              "      <td>1079.800049</td>\n",
              "    </tr>\n",
              "    <tr>\n",
              "      <th>3</th>\n",
              "      <td>2019-06-27</td>\n",
              "      <td>1084.000000</td>\n",
              "      <td>1087.099976</td>\n",
              "      <td>1075.290039</td>\n",
              "      <td>1076.010010</td>\n",
              "    </tr>\n",
              "    <tr>\n",
              "      <th>4</th>\n",
              "      <td>2019-06-28</td>\n",
              "      <td>1076.390015</td>\n",
              "      <td>1081.000000</td>\n",
              "      <td>1073.369995</td>\n",
              "      <td>1080.910034</td>\n",
              "    </tr>\n",
              "  </tbody>\n",
              "</table>\n",
              "</div>"
            ],
            "text/plain": [
              "         Date         Open         High          Low        Close\n",
              "0  2019-06-24  1119.609985  1122.000000  1111.010010  1115.520020\n",
              "1  2019-06-25  1112.660034  1114.349976  1083.800049  1086.349976\n",
              "2  2019-06-26  1086.500000  1092.969971  1072.239990  1079.800049\n",
              "3  2019-06-27  1084.000000  1087.099976  1075.290039  1076.010010\n",
              "4  2019-06-28  1076.390015  1081.000000  1073.369995  1080.910034"
            ]
          },
          "metadata": {
            "tags": []
          },
          "execution_count": 43
        }
      ]
    },
    {
      "cell_type": "code",
      "metadata": {
        "id": "ZaaQsrvRLbca",
        "colab_type": "code",
        "colab": {}
      },
      "source": [
        "# Add a new column \n",
        "df['Ticks'] = range(0, len(df.index.values))"
      ],
      "execution_count": 44,
      "outputs": []
    },
    {
      "cell_type": "code",
      "metadata": {
        "id": "yQ2vi-8kL9OY",
        "colab_type": "code",
        "colab": {
          "base_uri": "https://localhost:8080/",
          "height": 202
        },
        "outputId": "c40b39a6-8bbe-42d0-fa8c-8f9eb74a1bc2"
      },
      "source": [
        "df.head()"
      ],
      "execution_count": 45,
      "outputs": [
        {
          "output_type": "execute_result",
          "data": {
            "text/html": [
              "<div>\n",
              "<style scoped>\n",
              "    .dataframe tbody tr th:only-of-type {\n",
              "        vertical-align: middle;\n",
              "    }\n",
              "\n",
              "    .dataframe tbody tr th {\n",
              "        vertical-align: top;\n",
              "    }\n",
              "\n",
              "    .dataframe thead th {\n",
              "        text-align: right;\n",
              "    }\n",
              "</style>\n",
              "<table border=\"1\" class=\"dataframe\">\n",
              "  <thead>\n",
              "    <tr style=\"text-align: right;\">\n",
              "      <th></th>\n",
              "      <th>Date</th>\n",
              "      <th>Open</th>\n",
              "      <th>High</th>\n",
              "      <th>Low</th>\n",
              "      <th>Close</th>\n",
              "      <th>Ticks</th>\n",
              "    </tr>\n",
              "  </thead>\n",
              "  <tbody>\n",
              "    <tr>\n",
              "      <th>0</th>\n",
              "      <td>2019-06-24</td>\n",
              "      <td>1119.609985</td>\n",
              "      <td>1122.000000</td>\n",
              "      <td>1111.010010</td>\n",
              "      <td>1115.520020</td>\n",
              "      <td>0</td>\n",
              "    </tr>\n",
              "    <tr>\n",
              "      <th>1</th>\n",
              "      <td>2019-06-25</td>\n",
              "      <td>1112.660034</td>\n",
              "      <td>1114.349976</td>\n",
              "      <td>1083.800049</td>\n",
              "      <td>1086.349976</td>\n",
              "      <td>1</td>\n",
              "    </tr>\n",
              "    <tr>\n",
              "      <th>2</th>\n",
              "      <td>2019-06-26</td>\n",
              "      <td>1086.500000</td>\n",
              "      <td>1092.969971</td>\n",
              "      <td>1072.239990</td>\n",
              "      <td>1079.800049</td>\n",
              "      <td>2</td>\n",
              "    </tr>\n",
              "    <tr>\n",
              "      <th>3</th>\n",
              "      <td>2019-06-27</td>\n",
              "      <td>1084.000000</td>\n",
              "      <td>1087.099976</td>\n",
              "      <td>1075.290039</td>\n",
              "      <td>1076.010010</td>\n",
              "      <td>3</td>\n",
              "    </tr>\n",
              "    <tr>\n",
              "      <th>4</th>\n",
              "      <td>2019-06-28</td>\n",
              "      <td>1076.390015</td>\n",
              "      <td>1081.000000</td>\n",
              "      <td>1073.369995</td>\n",
              "      <td>1080.910034</td>\n",
              "      <td>4</td>\n",
              "    </tr>\n",
              "  </tbody>\n",
              "</table>\n",
              "</div>"
            ],
            "text/plain": [
              "         Date         Open         High          Low        Close  Ticks\n",
              "0  2019-06-24  1119.609985  1122.000000  1111.010010  1115.520020      0\n",
              "1  2019-06-25  1112.660034  1114.349976  1083.800049  1086.349976      1\n",
              "2  2019-06-26  1086.500000  1092.969971  1072.239990  1079.800049      2\n",
              "3  2019-06-27  1084.000000  1087.099976  1075.290039  1076.010010      3\n",
              "4  2019-06-28  1076.390015  1081.000000  1073.369995  1080.910034      4"
            ]
          },
          "metadata": {
            "tags": []
          },
          "execution_count": 45
        }
      ]
    },
    {
      "cell_type": "markdown",
      "metadata": {
        "id": "zl7ZVSE0MDFn",
        "colab_type": "text"
      },
      "source": [
        "### Plotting Ticks vs Open Price"
      ]
    },
    {
      "cell_type": "code",
      "metadata": {
        "id": "5mkmEPvBL_Eu",
        "colab_type": "code",
        "colab": {
          "base_uri": "https://localhost:8080/",
          "height": 313
        },
        "outputId": "3a2c1703-b486-4174-b5cc-a4bc79fd10f3"
      },
      "source": [
        "# Simple plotting\n",
        "fig = plt.figure(1)\n",
        "ax1 = fig.add_subplot(111)\n",
        "ax1.set_xlabel('Ticks')\n",
        "ax1.set_ylabel('Price')\n",
        "ax1.set_title('Original Plot')\n",
        "ax1.plot('Ticks', 'Open', data =df)\n"
      ],
      "execution_count": 46,
      "outputs": [
        {
          "output_type": "execute_result",
          "data": {
            "text/plain": [
              "[<matplotlib.lines.Line2D at 0x7ffae7f495c0>]"
            ]
          },
          "metadata": {
            "tags": []
          },
          "execution_count": 46
        },
        {
          "output_type": "display_data",
          "data": {
            "image/png": "[encoded data removed]",
            "text/plain": [
              "<Figure size 432x288 with 1 Axes>"
            ]
          },
          "metadata": {
            "tags": [],
            "needs_background": "light"
          }
        }
      ]
    },
    {
      "cell_type": "code",
      "metadata": {
        "id": "w8RuY4uIM4jK",
        "colab_type": "code",
        "colab": {
          "base_uri": "https://localhost:8080/",
          "height": 202
        },
        "outputId": "4c45f895-a90b-4109-9b3d-fce0622b611c"
      },
      "source": [
        "# Sample a 10th of the data\n",
        "one_tenth = df.sample(frac= .1, random_state=np.random.randint(10))\n",
        "one_tenth.head()"
      ],
      "execution_count": 47,
      "outputs": [
        {
          "output_type": "execute_result",
          "data": {
            "text/html": [
              "<div>\n",
              "<style scoped>\n",
              "    .dataframe tbody tr th:only-of-type {\n",
              "        vertical-align: middle;\n",
              "    }\n",
              "\n",
              "    .dataframe tbody tr th {\n",
              "        vertical-align: top;\n",
              "    }\n",
              "\n",
              "    .dataframe thead th {\n",
              "        text-align: right;\n",
              "    }\n",
              "</style>\n",
              "<table border=\"1\" class=\"dataframe\">\n",
              "  <thead>\n",
              "    <tr style=\"text-align: right;\">\n",
              "      <th></th>\n",
              "      <th>Date</th>\n",
              "      <th>Open</th>\n",
              "      <th>High</th>\n",
              "      <th>Low</th>\n",
              "      <th>Close</th>\n",
              "      <th>Ticks</th>\n",
              "    </tr>\n",
              "  </thead>\n",
              "  <tbody>\n",
              "    <tr>\n",
              "      <th>33</th>\n",
              "      <td>2019-08-09</td>\n",
              "      <td>1197.989990</td>\n",
              "      <td>1203.880005</td>\n",
              "      <td>1183.603027</td>\n",
              "      <td>1188.010010</td>\n",
              "      <td>33</td>\n",
              "    </tr>\n",
              "    <tr>\n",
              "      <th>214</th>\n",
              "      <td>2020-04-29</td>\n",
              "      <td>1341.459961</td>\n",
              "      <td>1359.989990</td>\n",
              "      <td>1325.339966</td>\n",
              "      <td>1341.479980</td>\n",
              "      <td>214</td>\n",
              "    </tr>\n",
              "    <tr>\n",
              "      <th>39</th>\n",
              "      <td>2019-08-19</td>\n",
              "      <td>1190.089966</td>\n",
              "      <td>1206.989990</td>\n",
              "      <td>1190.089966</td>\n",
              "      <td>1198.449951</td>\n",
              "      <td>39</td>\n",
              "    </tr>\n",
              "    <tr>\n",
              "      <th>6</th>\n",
              "      <td>2019-07-02</td>\n",
              "      <td>1102.239990</td>\n",
              "      <td>1111.770020</td>\n",
              "      <td>1098.170044</td>\n",
              "      <td>1111.250000</td>\n",
              "      <td>6</td>\n",
              "    </tr>\n",
              "    <tr>\n",
              "      <th>101</th>\n",
              "      <td>2019-11-14</td>\n",
              "      <td>1297.500000</td>\n",
              "      <td>1317.000000</td>\n",
              "      <td>1295.650024</td>\n",
              "      <td>1311.459961</td>\n",
              "      <td>101</td>\n",
              "    </tr>\n",
              "  </tbody>\n",
              "</table>\n",
              "</div>"
            ],
            "text/plain": [
              "           Date         Open         High          Low        Close  Ticks\n",
              "33   2019-08-09  1197.989990  1203.880005  1183.603027  1188.010010     33\n",
              "214  2020-04-29  1341.459961  1359.989990  1325.339966  1341.479980    214\n",
              "39   2019-08-19  1190.089966  1206.989990  1190.089966  1198.449951     39\n",
              "6    2019-07-02  1102.239990  1111.770020  1098.170044  1111.250000      6\n",
              "101  2019-11-14  1297.500000  1317.000000  1295.650024  1311.459961    101"
            ]
          },
          "metadata": {
            "tags": []
          },
          "execution_count": 47
        }
      ]
    },
    {
      "cell_type": "markdown",
      "metadata": {
        "id": "u_oxmo8dN6uh",
        "colab_type": "text"
      },
      "source": [
        "The date values have now mixed up which will be difficult to plot so we will re-order them by ticks value."
      ]
    },
    {
      "cell_type": "code",
      "metadata": {
        "id": "bt0zPbIKNuxt",
        "colab_type": "code",
        "colab": {
          "base_uri": "https://localhost:8080/",
          "height": 202
        },
        "outputId": "2de2cd33-317f-40e5-9200-a8cf981302f0"
      },
      "source": [
        "# Sorting the dataframe\n",
        "one_tenth.index.name = None\n",
        "one_tenth = one_tenth.sort_values(by=['Ticks'], ascending=[True])\n",
        "one_tenth.head()"
      ],
      "execution_count": 48,
      "outputs": [
        {
          "output_type": "execute_result",
          "data": {
            "text/html": [
              "<div>\n",
              "<style scoped>\n",
              "    .dataframe tbody tr th:only-of-type {\n",
              "        vertical-align: middle;\n",
              "    }\n",
              "\n",
              "    .dataframe tbody tr th {\n",
              "        vertical-align: top;\n",
              "    }\n",
              "\n",
              "    .dataframe thead th {\n",
              "        text-align: right;\n",
              "    }\n",
              "</style>\n",
              "<table border=\"1\" class=\"dataframe\">\n",
              "  <thead>\n",
              "    <tr style=\"text-align: right;\">\n",
              "      <th></th>\n",
              "      <th>Date</th>\n",
              "      <th>Open</th>\n",
              "      <th>High</th>\n",
              "      <th>Low</th>\n",
              "      <th>Close</th>\n",
              "      <th>Ticks</th>\n",
              "    </tr>\n",
              "  </thead>\n",
              "  <tbody>\n",
              "    <tr>\n",
              "      <th>6</th>\n",
              "      <td>2019-07-02</td>\n",
              "      <td>1102.239990</td>\n",
              "      <td>1111.770020</td>\n",
              "      <td>1098.170044</td>\n",
              "      <td>1111.250000</td>\n",
              "      <td>6</td>\n",
              "    </tr>\n",
              "    <tr>\n",
              "      <th>11</th>\n",
              "      <td>2019-07-10</td>\n",
              "      <td>1131.219971</td>\n",
              "      <td>1142.050049</td>\n",
              "      <td>1130.969971</td>\n",
              "      <td>1140.479980</td>\n",
              "      <td>11</td>\n",
              "    </tr>\n",
              "    <tr>\n",
              "      <th>33</th>\n",
              "      <td>2019-08-09</td>\n",
              "      <td>1197.989990</td>\n",
              "      <td>1203.880005</td>\n",
              "      <td>1183.603027</td>\n",
              "      <td>1188.010010</td>\n",
              "      <td>33</td>\n",
              "    </tr>\n",
              "    <tr>\n",
              "      <th>39</th>\n",
              "      <td>2019-08-19</td>\n",
              "      <td>1190.089966</td>\n",
              "      <td>1206.989990</td>\n",
              "      <td>1190.089966</td>\n",
              "      <td>1198.449951</td>\n",
              "      <td>39</td>\n",
              "    </tr>\n",
              "    <tr>\n",
              "      <th>43</th>\n",
              "      <td>2019-08-23</td>\n",
              "      <td>1181.989990</td>\n",
              "      <td>1194.079956</td>\n",
              "      <td>1147.750000</td>\n",
              "      <td>1151.290039</td>\n",
              "      <td>43</td>\n",
              "    </tr>\n",
              "  </tbody>\n",
              "</table>\n",
              "</div>"
            ],
            "text/plain": [
              "          Date         Open         High          Low        Close  Ticks\n",
              "6   2019-07-02  1102.239990  1111.770020  1098.170044  1111.250000      6\n",
              "11  2019-07-10  1131.219971  1142.050049  1130.969971  1140.479980     11\n",
              "33  2019-08-09  1197.989990  1203.880005  1183.603027  1188.010010     33\n",
              "39  2019-08-19  1190.089966  1206.989990  1190.089966  1198.449951     39\n",
              "43  2019-08-23  1181.989990  1194.079956  1147.750000  1151.290039     43"
            ]
          },
          "metadata": {
            "tags": []
          },
          "execution_count": 48
        }
      ]
    },
    {
      "cell_type": "markdown",
      "metadata": {
        "id": "ZbGFl3EiPDdg",
        "colab_type": "text"
      },
      "source": [
        "### Plot the Ticks vs Open Price on the Sampled Data"
      ]
    },
    {
      "cell_type": "code",
      "metadata": {
        "id": "D9Z02xKwOt5p",
        "colab_type": "code",
        "colab": {
          "base_uri": "https://localhost:8080/",
          "height": 313
        },
        "outputId": "dbeb25a0-def8-435b-ee46-3e27fa42a96b"
      },
      "source": [
        "axes = one_tenth.plot('Ticks', 'Open', legend=False, title= 'Sampled Plot')\n",
        "axes.legend=None\n",
        "axes.set_ylabel('Price')"
      ],
      "execution_count": 49,
      "outputs": [
        {
          "output_type": "execute_result",
          "data": {
            "text/plain": [
              "Text(0, 0.5, 'Price')"
            ]
          },
          "metadata": {
            "tags": []
          },
          "execution_count": 49
        },
        {
          "output_type": "display_data",
          "data": {
            "image/png": "[encoded data removed]",
            "text/plain": [
              "<Figure size 432x288 with 1 Axes>"
            ]
          },
          "metadata": {
            "tags": [],
            "needs_background": "light"
          }
        }
      ]
    },
    {
      "cell_type": "code",
      "metadata": {
        "id": "KRftITwFPxep",
        "colab_type": "code",
        "colab": {
          "base_uri": "https://localhost:8080/",
          "height": 336
        },
        "outputId": "d8325315-f539-431f-e1f5-52d20601a8b0"
      },
      "source": [
        "# Plotting the Original Data vs Sampled Data\n",
        "\n",
        "fig, axes = plt.subplots(nrows=1, ncols=2, figsize=(10,5));\n",
        "axes[0].plot('Ticks', 'Open', data = df);\n",
        "axes[0].set_title('Original Plot');\n",
        "axes[1].plot('Ticks', 'Open', data = one_tenth);\n",
        "axes[1].set_title('Sampled Plot');\n"
      ],
      "execution_count": 50,
      "outputs": [
        {
          "output_type": "display_data",
          "data": {
            "image/png": "[encoded data removed]",
            "text/plain": [
              "<Figure size 720x360 with 2 Axes>"
            ]
          },
          "metadata": {
            "tags": [],
            "needs_background": "light"
          }
        }
      ]
    },
    {
      "cell_type": "markdown",
      "metadata": {
        "id": "c6zenrXfTFKa",
        "colab_type": "text"
      },
      "source": [
        "### Plotting the Original Data vs the Sampled Data vs the Rolling Mean"
      ]
    },
    {
      "cell_type": "code",
      "metadata": {
        "id": "qtNEhYdfRBEi",
        "colab_type": "code",
        "colab": {}
      },
      "source": [
        "# Getting the Rolling Mean\n",
        "df['Rolling_Mean'] = df['Open'].rolling(window = 80).mean()"
      ],
      "execution_count": 51,
      "outputs": []
    },
    {
      "cell_type": "code",
      "metadata": {
        "id": "PGUi1wcNSqbZ",
        "colab_type": "code",
        "colab": {
          "base_uri": "https://localhost:8080/",
          "height": 202
        },
        "outputId": "4c438a05-2394-4123-f3fd-8f9f5cce41be"
      },
      "source": [
        "df.head()"
      ],
      "execution_count": 52,
      "outputs": [
        {
          "output_type": "execute_result",
          "data": {
            "text/html": [
              "<div>\n",
              "<style scoped>\n",
              "    .dataframe tbody tr th:only-of-type {\n",
              "        vertical-align: middle;\n",
              "    }\n",
              "\n",
              "    .dataframe tbody tr th {\n",
              "        vertical-align: top;\n",
              "    }\n",
              "\n",
              "    .dataframe thead th {\n",
              "        text-align: right;\n",
              "    }\n",
              "</style>\n",
              "<table border=\"1\" class=\"dataframe\">\n",
              "  <thead>\n",
              "    <tr style=\"text-align: right;\">\n",
              "      <th></th>\n",
              "      <th>Date</th>\n",
              "      <th>Open</th>\n",
              "      <th>High</th>\n",
              "      <th>Low</th>\n",
              "      <th>Close</th>\n",
              "      <th>Ticks</th>\n",
              "      <th>Rolling_Mean</th>\n",
              "    </tr>\n",
              "  </thead>\n",
              "  <tbody>\n",
              "    <tr>\n",
              "      <th>0</th>\n",
              "      <td>2019-06-24</td>\n",
              "      <td>1119.609985</td>\n",
              "      <td>1122.000000</td>\n",
              "      <td>1111.010010</td>\n",
              "      <td>1115.520020</td>\n",
              "      <td>0</td>\n",
              "      <td>NaN</td>\n",
              "    </tr>\n",
              "    <tr>\n",
              "      <th>1</th>\n",
              "      <td>2019-06-25</td>\n",
              "      <td>1112.660034</td>\n",
              "      <td>1114.349976</td>\n",
              "      <td>1083.800049</td>\n",
              "      <td>1086.349976</td>\n",
              "      <td>1</td>\n",
              "      <td>NaN</td>\n",
              "    </tr>\n",
              "    <tr>\n",
              "      <th>2</th>\n",
              "      <td>2019-06-26</td>\n",
              "      <td>1086.500000</td>\n",
              "      <td>1092.969971</td>\n",
              "      <td>1072.239990</td>\n",
              "      <td>1079.800049</td>\n",
              "      <td>2</td>\n",
              "      <td>NaN</td>\n",
              "    </tr>\n",
              "    <tr>\n",
              "      <th>3</th>\n",
              "      <td>2019-06-27</td>\n",
              "      <td>1084.000000</td>\n",
              "      <td>1087.099976</td>\n",
              "      <td>1075.290039</td>\n",
              "      <td>1076.010010</td>\n",
              "      <td>3</td>\n",
              "      <td>NaN</td>\n",
              "    </tr>\n",
              "    <tr>\n",
              "      <th>4</th>\n",
              "      <td>2019-06-28</td>\n",
              "      <td>1076.390015</td>\n",
              "      <td>1081.000000</td>\n",
              "      <td>1073.369995</td>\n",
              "      <td>1080.910034</td>\n",
              "      <td>4</td>\n",
              "      <td>NaN</td>\n",
              "    </tr>\n",
              "  </tbody>\n",
              "</table>\n",
              "</div>"
            ],
            "text/plain": [
              "         Date         Open         High  ...        Close  Ticks  Rolling_Mean\n",
              "0  2019-06-24  1119.609985  1122.000000  ...  1115.520020      0           NaN\n",
              "1  2019-06-25  1112.660034  1114.349976  ...  1086.349976      1           NaN\n",
              "2  2019-06-26  1086.500000  1092.969971  ...  1079.800049      2           NaN\n",
              "3  2019-06-27  1084.000000  1087.099976  ...  1076.010010      3           NaN\n",
              "4  2019-06-28  1076.390015  1081.000000  ...  1080.910034      4           NaN\n",
              "\n",
              "[5 rows x 7 columns]"
            ]
          },
          "metadata": {
            "tags": []
          },
          "execution_count": 52
        }
      ]
    },
    {
      "cell_type": "code",
      "metadata": {
        "id": "c9IrienYTpGe",
        "colab_type": "code",
        "colab": {
          "base_uri": "https://localhost:8080/",
          "height": 336
        },
        "outputId": "ece89316-685e-4598-f4cc-610c9c9c0bb6"
      },
      "source": [
        "# Plotting the Original Data vs Sampled Data vs Rolling Mean\n",
        "\n",
        "fig, axes = plt.subplots(nrows=1, ncols=3, figsize=(15,5));\n",
        "axes[0].plot('Ticks', 'Open', data = df);\n",
        "axes[0].set_title('Original Plot');\n",
        "axes[1].plot('Ticks', 'Open', data = one_tenth);\n",
        "axes[1].set_title('Sampled Plot');\n",
        "axes[2].plot('Ticks', 'Rolling_Mean', data = df);\n",
        "axes[2].set_title('Smoothed(Rolling Mean)');"
      ],
      "execution_count": 53,
      "outputs": [
        {
          "output_type": "display_data",
          "data": {
            "image/png": "[encoded data removed]",
            "text/plain": [
              "<Figure size 1080x360 with 3 Axes>"
            ]
          },
          "metadata": {
            "tags": [],
            "needs_background": "light"
          }
        }
      ]
    },
    {
      "cell_type": "code",
      "metadata": {
        "id": "s3AMeZJqUR3b",
        "colab_type": "code",
        "colab": {
          "base_uri": "https://localhost:8080/",
          "height": 313
        },
        "outputId": "6d2f1704-cf66-438f-ad60-ba0bb815e826"
      },
      "source": [
        "# Plotting Original Data and Smoothed Data on the same set\n",
        "fig = plt.figure();\n",
        "ax = fig.add_subplot(111);\n",
        "ax.plot(df['Ticks'], df['Rolling_Mean'], color=(0,0,0), linewidth=4, alpha=.9, label='Smoothed');\n",
        "ax.plot(df['Ticks'], df['Open'], color=(1,0,0), label='Original');\n",
        "ax.set_title('Original and Smoothed Price')\n",
        "ax.set_xlabel('Ticks')\n",
        "ax.set_ylabel('Price')\n",
        "ax.legend()"
      ],
      "execution_count": 56,
      "outputs": [
        {
          "output_type": "execute_result",
          "data": {
            "text/plain": [
              "<matplotlib.legend.Legend at 0x7ffae7d62da0>"
            ]
          },
          "metadata": {
            "tags": []
          },
          "execution_count": 56
        },
        {
          "output_type": "display_data",
          "data": {
            "image/png": "[encoded data removed]",
            "text/plain": [
              "<Figure size 432x288 with 1 Axes>"
            ]
          },
          "metadata": {
            "tags": [],
            "needs_background": "light"
          }
        }
      ]
    },
    {
      "cell_type": "code",
      "metadata": {
        "id": "Dhyf6fUzWVDL",
        "colab_type": "code",
        "colab": {
          "base_uri": "https://localhost:8080/",
          "height": 35
        },
        "outputId": "6750afc4-424c-4a8a-cd00-0ab7359ad179"
      },
      "source": [
        "# Plotting Date works best with datetime as the type\n",
        "type(df['Date'].values[0])\n",
        "np.datetime64"
      ],
      "execution_count": 58,
      "outputs": [
        {
          "output_type": "execute_result",
          "data": {
            "text/plain": [
              "numpy.datetime64"
            ]
          },
          "metadata": {
            "tags": []
          },
          "execution_count": 58
        }
      ]
    },
    {
      "cell_type": "code",
      "metadata": {
        "id": "9iZZ63l2Y-93",
        "colab_type": "code",
        "colab": {
          "base_uri": "https://localhost:8080/",
          "height": 35
        },
        "outputId": "a8e69877-ffac-482f-a2a9-edce17b46c86"
      },
      "source": [
        "df.shape"
      ],
      "execution_count": 60,
      "outputs": [
        {
          "output_type": "execute_result",
          "data": {
            "text/plain": [
              "(251, 7)"
            ]
          },
          "metadata": {
            "tags": []
          },
          "execution_count": 60
        }
      ]
    },
    {
      "cell_type": "code",
      "metadata": {
        "id": "sifPxsNCYREG",
        "colab_type": "code",
        "colab": {
          "base_uri": "https://localhost:8080/",
          "height": 202
        },
        "outputId": "671b25e3-6a3c-432c-96c5-2928c247aa1f"
      },
      "source": [
        "# Get the data from Tick 800 to 1200\n",
        "\n",
        "filt_df = df[(df['Ticks'] >= 100) & (df['Ticks'] <= 250)]\n",
        "filt_df.head()"
      ],
      "execution_count": 61,
      "outputs": [
        {
          "output_type": "execute_result",
          "data": {
            "text/html": [
              "<div>\n",
              "<style scoped>\n",
              "    .dataframe tbody tr th:only-of-type {\n",
              "        vertical-align: middle;\n",
              "    }\n",
              "\n",
              "    .dataframe tbody tr th {\n",
              "        vertical-align: top;\n",
              "    }\n",
              "\n",
              "    .dataframe thead th {\n",
              "        text-align: right;\n",
              "    }\n",
              "</style>\n",
              "<table border=\"1\" class=\"dataframe\">\n",
              "  <thead>\n",
              "    <tr style=\"text-align: right;\">\n",
              "      <th></th>\n",
              "      <th>Date</th>\n",
              "      <th>Open</th>\n",
              "      <th>High</th>\n",
              "      <th>Low</th>\n",
              "      <th>Close</th>\n",
              "      <th>Ticks</th>\n",
              "      <th>Rolling_Mean</th>\n",
              "    </tr>\n",
              "  </thead>\n",
              "  <tbody>\n",
              "    <tr>\n",
              "      <th>100</th>\n",
              "      <td>2019-11-13</td>\n",
              "      <td>1294.069946</td>\n",
              "      <td>1304.300049</td>\n",
              "      <td>1293.510010</td>\n",
              "      <td>1298.000000</td>\n",
              "      <td>100</td>\n",
              "      <td>1218.163501</td>\n",
              "    </tr>\n",
              "    <tr>\n",
              "      <th>101</th>\n",
              "      <td>2019-11-14</td>\n",
              "      <td>1297.500000</td>\n",
              "      <td>1317.000000</td>\n",
              "      <td>1295.650024</td>\n",
              "      <td>1311.459961</td>\n",
              "      <td>101</td>\n",
              "      <td>1220.233501</td>\n",
              "    </tr>\n",
              "    <tr>\n",
              "      <th>102</th>\n",
              "      <td>2019-11-15</td>\n",
              "      <td>1318.939941</td>\n",
              "      <td>1334.880005</td>\n",
              "      <td>1314.280029</td>\n",
              "      <td>1334.869995</td>\n",
              "      <td>102</td>\n",
              "      <td>1222.497501</td>\n",
              "    </tr>\n",
              "    <tr>\n",
              "      <th>103</th>\n",
              "      <td>2019-11-18</td>\n",
              "      <td>1332.219971</td>\n",
              "      <td>1335.529053</td>\n",
              "      <td>1317.500000</td>\n",
              "      <td>1320.699951</td>\n",
              "      <td>103</td>\n",
              "      <td>1223.849750</td>\n",
              "    </tr>\n",
              "    <tr>\n",
              "      <th>104</th>\n",
              "      <td>2019-11-19</td>\n",
              "      <td>1327.699951</td>\n",
              "      <td>1327.699951</td>\n",
              "      <td>1312.800049</td>\n",
              "      <td>1315.459961</td>\n",
              "      <td>104</td>\n",
              "      <td>1224.932874</td>\n",
              "    </tr>\n",
              "  </tbody>\n",
              "</table>\n",
              "</div>"
            ],
            "text/plain": [
              "           Date         Open         High  ...        Close  Ticks  Rolling_Mean\n",
              "100  2019-11-13  1294.069946  1304.300049  ...  1298.000000    100   1218.163501\n",
              "101  2019-11-14  1297.500000  1317.000000  ...  1311.459961    101   1220.233501\n",
              "102  2019-11-15  1318.939941  1334.880005  ...  1334.869995    102   1222.497501\n",
              "103  2019-11-18  1332.219971  1335.529053  ...  1320.699951    103   1223.849750\n",
              "104  2019-11-19  1327.699951  1327.699951  ...  1315.459961    104   1224.932874\n",
              "\n",
              "[5 rows x 7 columns]"
            ]
          },
          "metadata": {
            "tags": []
          },
          "execution_count": 61
        }
      ]
    },
    {
      "cell_type": "markdown",
      "metadata": {
        "id": "eR0uHn-8ZUmN",
        "colab_type": "text"
      },
      "source": [
        "### Linear Regression"
      ]
    },
    {
      "cell_type": "code",
      "metadata": {
        "id": "FtRWkDcyY4Nr",
        "colab_type": "code",
        "colab": {}
      },
      "source": [
        "from sklearn.linear_model import LinearRegression"
      ],
      "execution_count": 62,
      "outputs": []
    },
    {
      "cell_type": "code",
      "metadata": {
        "id": "nImEpfawZifj",
        "colab_type": "code",
        "colab": {
          "base_uri": "https://localhost:8080/",
          "height": 35
        },
        "outputId": "fb06de35-5b65-4a7d-d3bd-bb4a87b219df"
      },
      "source": [
        "model = LinearRegression().fit(filt_df[['Ticks']], filt_df[['Rolling_Mean']])\n",
        "m = model.coef_[0]\n",
        "b = model.intercept_\n",
        "\n",
        "# Equation of the line\n",
        "print ('y = ', round(m[0],2), 'x + ', round(b[0],2))"
      ],
      "execution_count": 65,
      "outputs": [
        {
          "output_type": "stream",
          "text": [
            "y =  0.5 x +  1226.6\n"
          ],
          "name": "stdout"
        }
      ]
    },
    {
      "cell_type": "code",
      "metadata": {
        "id": "DhzEALKEaYkC",
        "colab_type": "code",
        "colab": {
          "base_uri": "https://localhost:8080/",
          "height": 104
        },
        "outputId": "96d11fef-94f1-4893-bdad-b0b4c9f15026"
      },
      "source": [
        "# Using the Eqn of the line to get the y values\n",
        "predictions = model.predict(filt_df[['Ticks']])\n",
        "predictions[0:5]"
      ],
      "execution_count": 66,
      "outputs": [
        {
          "output_type": "execute_result",
          "data": {
            "text/plain": [
              "array([[1276.23447274],\n",
              "       [1276.73083987],\n",
              "       [1277.227207  ],\n",
              "       [1277.72357413],\n",
              "       [1278.21994126]])"
            ]
          },
          "metadata": {
            "tags": []
          },
          "execution_count": 66
        }
      ]
    },
    {
      "cell_type": "code",
      "metadata": {
        "id": "_xDJTlXbbNY-",
        "colab_type": "code",
        "colab": {
          "base_uri": "https://localhost:8080/",
          "height": 202
        },
        "outputId": "abf92c40-bdd0-4d18-aa62-047a8fc4695b"
      },
      "source": [
        "# Make a DataFrame for the Predictions\n",
        "predictions = pd.DataFrame(data= predictions, index = filt_df.index.values, columns=['Pred'])\n",
        "predictions.head()"
      ],
      "execution_count": 67,
      "outputs": [
        {
          "output_type": "execute_result",
          "data": {
            "text/html": [
              "<div>\n",
              "<style scoped>\n",
              "    .dataframe tbody tr th:only-of-type {\n",
              "        vertical-align: middle;\n",
              "    }\n",
              "\n",
              "    .dataframe tbody tr th {\n",
              "        vertical-align: top;\n",
              "    }\n",
              "\n",
              "    .dataframe thead th {\n",
              "        text-align: right;\n",
              "    }\n",
              "</style>\n",
              "<table border=\"1\" class=\"dataframe\">\n",
              "  <thead>\n",
              "    <tr style=\"text-align: right;\">\n",
              "      <th></th>\n",
              "      <th>Pred</th>\n",
              "    </tr>\n",
              "  </thead>\n",
              "  <tbody>\n",
              "    <tr>\n",
              "      <th>100</th>\n",
              "      <td>1276.234473</td>\n",
              "    </tr>\n",
              "    <tr>\n",
              "      <th>101</th>\n",
              "      <td>1276.730840</td>\n",
              "    </tr>\n",
              "    <tr>\n",
              "      <th>102</th>\n",
              "      <td>1277.227207</td>\n",
              "    </tr>\n",
              "    <tr>\n",
              "      <th>103</th>\n",
              "      <td>1277.723574</td>\n",
              "    </tr>\n",
              "    <tr>\n",
              "      <th>104</th>\n",
              "      <td>1278.219941</td>\n",
              "    </tr>\n",
              "  </tbody>\n",
              "</table>\n",
              "</div>"
            ],
            "text/plain": [
              "            Pred\n",
              "100  1276.234473\n",
              "101  1276.730840\n",
              "102  1277.227207\n",
              "103  1277.723574\n",
              "104  1278.219941"
            ]
          },
          "metadata": {
            "tags": []
          },
          "execution_count": 67
        }
      ]
    },
    {
      "cell_type": "code",
      "metadata": {
        "id": "wP7lJpYpbsZa",
        "colab_type": "code",
        "colab": {
          "base_uri": "https://localhost:8080/",
          "height": 202
        },
        "outputId": "9dd4c46b-8b78-4009-b2c8-ebbf537ebdea"
      },
      "source": [
        "# Join the two DataFrames\n",
        "\n",
        "joined_df = filt_df.join(predictions, how='inner')\n",
        "joined_df.head()"
      ],
      "execution_count": 68,
      "outputs": [
        {
          "output_type": "execute_result",
          "data": {
            "text/html": [
              "<div>\n",
              "<style scoped>\n",
              "    .dataframe tbody tr th:only-of-type {\n",
              "        vertical-align: middle;\n",
              "    }\n",
              "\n",
              "    .dataframe tbody tr th {\n",
              "        vertical-align: top;\n",
              "    }\n",
              "\n",
              "    .dataframe thead th {\n",
              "        text-align: right;\n",
              "    }\n",
              "</style>\n",
              "<table border=\"1\" class=\"dataframe\">\n",
              "  <thead>\n",
              "    <tr style=\"text-align: right;\">\n",
              "      <th></th>\n",
              "      <th>Date</th>\n",
              "      <th>Open</th>\n",
              "      <th>High</th>\n",
              "      <th>Low</th>\n",
              "      <th>Close</th>\n",
              "      <th>Ticks</th>\n",
              "      <th>Rolling_Mean</th>\n",
              "      <th>Pred</th>\n",
              "    </tr>\n",
              "  </thead>\n",
              "  <tbody>\n",
              "    <tr>\n",
              "      <th>100</th>\n",
              "      <td>2019-11-13</td>\n",
              "      <td>1294.069946</td>\n",
              "      <td>1304.300049</td>\n",
              "      <td>1293.510010</td>\n",
              "      <td>1298.000000</td>\n",
              "      <td>100</td>\n",
              "      <td>1218.163501</td>\n",
              "      <td>1276.234473</td>\n",
              "    </tr>\n",
              "    <tr>\n",
              "      <th>101</th>\n",
              "      <td>2019-11-14</td>\n",
              "      <td>1297.500000</td>\n",
              "      <td>1317.000000</td>\n",
              "      <td>1295.650024</td>\n",
              "      <td>1311.459961</td>\n",
              "      <td>101</td>\n",
              "      <td>1220.233501</td>\n",
              "      <td>1276.730840</td>\n",
              "    </tr>\n",
              "    <tr>\n",
              "      <th>102</th>\n",
              "      <td>2019-11-15</td>\n",
              "      <td>1318.939941</td>\n",
              "      <td>1334.880005</td>\n",
              "      <td>1314.280029</td>\n",
              "      <td>1334.869995</td>\n",
              "      <td>102</td>\n",
              "      <td>1222.497501</td>\n",
              "      <td>1277.227207</td>\n",
              "    </tr>\n",
              "    <tr>\n",
              "      <th>103</th>\n",
              "      <td>2019-11-18</td>\n",
              "      <td>1332.219971</td>\n",
              "      <td>1335.529053</td>\n",
              "      <td>1317.500000</td>\n",
              "      <td>1320.699951</td>\n",
              "      <td>103</td>\n",
              "      <td>1223.849750</td>\n",
              "      <td>1277.723574</td>\n",
              "    </tr>\n",
              "    <tr>\n",
              "      <th>104</th>\n",
              "      <td>2019-11-19</td>\n",
              "      <td>1327.699951</td>\n",
              "      <td>1327.699951</td>\n",
              "      <td>1312.800049</td>\n",
              "      <td>1315.459961</td>\n",
              "      <td>104</td>\n",
              "      <td>1224.932874</td>\n",
              "      <td>1278.219941</td>\n",
              "    </tr>\n",
              "  </tbody>\n",
              "</table>\n",
              "</div>"
            ],
            "text/plain": [
              "           Date         Open         High  ...  Ticks  Rolling_Mean         Pred\n",
              "100  2019-11-13  1294.069946  1304.300049  ...    100   1218.163501  1276.234473\n",
              "101  2019-11-14  1297.500000  1317.000000  ...    101   1220.233501  1276.730840\n",
              "102  2019-11-15  1318.939941  1334.880005  ...    102   1222.497501  1277.227207\n",
              "103  2019-11-18  1332.219971  1335.529053  ...    103   1223.849750  1277.723574\n",
              "104  2019-11-19  1327.699951  1327.699951  ...    104   1224.932874  1278.219941\n",
              "\n",
              "[5 rows x 8 columns]"
            ]
          },
          "metadata": {
            "tags": []
          },
          "execution_count": 68
        }
      ]
    },
    {
      "cell_type": "code",
      "metadata": {
        "id": "hfiRQRCVcPhM",
        "colab_type": "code",
        "colab": {
          "base_uri": "https://localhost:8080/",
          "height": 313
        },
        "outputId": "539914c0-0efe-43c2-8975-88fe9d84a6a2"
      },
      "source": [
        "# Plot the data \n",
        "\n",
        "fig = plt.figure();\n",
        "ax = fig.add_subplot(111);\n",
        "ax.plot(joined_df['Ticks'], joined_df['Rolling_Mean'], color=(0,0,0), linewidth=4, alpha=.9, label='Smoothed');\n",
        "ax.plot(joined_df['Ticks'], joined_df['Pred'], color=(1,0,0), label='Prediction');\n",
        "ax.set_title('Rolling Mean vs Linear Prediction')\n",
        "ax.set_xlabel('Ticks')\n",
        "ax.set_ylabel('Price')\n",
        "ax.legend()"
      ],
      "execution_count": 69,
      "outputs": [
        {
          "output_type": "execute_result",
          "data": {
            "text/plain": [
              "<matplotlib.legend.Legend at 0x7ffae7a15a58>"
            ]
          },
          "metadata": {
            "tags": []
          },
          "execution_count": 69
        },
        {
          "output_type": "display_data",
          "data": {
            "image/png": "[encoded data removed]",
            "text/plain": [
              "<Figure size 432x288 with 1 Axes>"
            ]
          },
          "metadata": {
            "tags": [],
            "needs_background": "light"
          }
        }
      ]
    },
    {
      "cell_type": "code",
      "metadata": {
        "id": "pGPUV5rrdN_3",
        "colab_type": "code",
        "colab": {
          "base_uri": "https://localhost:8080/",
          "height": 35
        },
        "outputId": "f9836cf3-0714-4f05-dd39-f9007f39a3b9"
      },
      "source": [
        "# Get the R-Squared value\n",
        "import sklearn\n",
        "r_squared = sklearn.metrics.r2_score(joined_df['Rolling_Mean'], joined_df['Pred'], multioutput='uniform_average')\n",
        "r_squared"
      ],
      "execution_count": 71,
      "outputs": [
        {
          "output_type": "execute_result",
          "data": {
            "text/plain": [
              "0.21751335132377936"
            ]
          },
          "metadata": {
            "tags": []
          },
          "execution_count": 71
        }
      ]
    },
    {
      "cell_type": "markdown",
      "metadata": {
        "id": "B7Tn_wxzeATJ",
        "colab_type": "text"
      },
      "source": [
        "This is a poor model choice, rubbish, trash. Have to dump it."
      ]
    },
    {
      "cell_type": "code",
      "metadata": {
        "id": "nPbjHHlJd4lh",
        "colab_type": "code",
        "colab": {}
      },
      "source": [
        ""
      ],
      "execution_count": null,
      "outputs": []
    }
  ]
}