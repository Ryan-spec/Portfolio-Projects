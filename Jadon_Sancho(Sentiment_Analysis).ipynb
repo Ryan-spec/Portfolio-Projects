{
  "nbformat": 4,
  "nbformat_minor": 0,
  "metadata": {
    "colab": {
      "name": "Jadon Sancho(Sentiment Analysis).ipynb",
      "provenance": [],
      "authorship_tag": "ABX9TyNE/dXh4cS7eGyOaxewW6Wl",
      "include_colab_link": true
    },
    "kernelspec": {
      "name": "python3",
      "display_name": "Python 3"
    }
  },
  "cells": [
    {
      "cell_type": "markdown",
      "metadata": {
        "id": "view-in-github",
        "colab_type": "text"
      },
      "source": [
        "<a href=\"https://colab.research.google.com/github/Ryan-spec/Portfolio-Projects/blob/master/Jadon_Sancho(Sentiment_Analysis).ipynb\" target=\"_parent\"><img src=\"https://colab.research.google.com/assets/colab-badge.svg\" alt=\"Open In Colab\"/></a>"
      ]
    },
    {
      "cell_type": "markdown",
      "metadata": {
        "id": "-oqvwC8kHS-x",
        "colab_type": "text"
      },
      "source": [
        "# **Sentiment Analysis**\n",
        "\n",
        "---\n",
        "\n",
        "\n",
        "\n",
        "---\n",
        "\n"
      ]
    },
    {
      "cell_type": "code",
      "metadata": {
        "id": "sN3sKuAWF7di",
        "colab_type": "code",
        "colab": {}
      },
      "source": [
        "# This program attempts to get the sentiment of text from a website\n"
      ],
      "execution_count": null,
      "outputs": []
    },
    {
      "cell_type": "code",
      "metadata": {
        "id": "CnsfiEifHqK4",
        "colab_type": "code",
        "colab": {}
      },
      "source": [
        "# Install neccessary package\n",
        "!pip install newspaper3k"
      ],
      "execution_count": null,
      "outputs": []
    },
    {
      "cell_type": "code",
      "metadata": {
        "id": "1cOMRV2THwBw",
        "colab_type": "code",
        "colab": {}
      },
      "source": [
        "# Import the libraries\n",
        "from textblob import TextBlob\n",
        "import nltk\n",
        "from newspaper import Article"
      ],
      "execution_count": 2,
      "outputs": []
    },
    {
      "cell_type": "code",
      "metadata": {
        "id": "2NkenPyvIQeN",
        "colab_type": "code",
        "colab": {}
      },
      "source": [
        "# Get the article\n",
        "url = 'https://www.manchestereveningnews.co.uk/sport/football/transfer-news/man-utd-sancho-chong-transfer-18681697'\n",
        "article = Article(url)\n"
      ],
      "execution_count": 3,
      "outputs": []
    },
    {
      "cell_type": "code",
      "metadata": {
        "id": "Fi6jsY8BI4sH",
        "colab_type": "code",
        "colab": {
          "base_uri": "https://localhost:8080/",
          "height": 52
        },
        "outputId": "5beda130-4a5d-4195-d39c-afa13572ae5a"
      },
      "source": [
        "# Do some Natural Language Processing \n",
        "article.download()\n",
        "article.parse()\n",
        "nltk.download('punkt')\n",
        "article.nlp()"
      ],
      "execution_count": 4,
      "outputs": [
        {
          "output_type": "stream",
          "text": [
            "[nltk_data] Downloading package punkt to /root/nltk_data...\n",
            "[nltk_data]   Unzipping tokenizers/punkt.zip.\n"
          ],
          "name": "stdout"
        }
      ]
    },
    {
      "cell_type": "code",
      "metadata": {
        "id": "eqmoojbmJQ5J",
        "colab_type": "code",
        "colab": {
          "base_uri": "https://localhost:8080/",
          "height": 124
        },
        "outputId": "80925309-418f-42bc-f438-41fcaf3228ab"
      },
      "source": [
        "# Get the summary of the article\n",
        "text = article.summary\n",
        "\n",
        "# print the text\n",
        "print(text)"
      ],
      "execution_count": 5,
      "outputs": [
        {
          "output_type": "stream",
          "text": [
            "Solskjaer has already been hugely successful for United on the transfer front for a few key reasons.\n",
            "Club hierarchy are in full faith of Solskjaer's current recruitment policy and in a pivotal summer window United will back their manager with his desired signings as they look to close the gap on the only two English sides currently above them.\n",
            "Jadon Sancho remains the club's top transfer target for the summer and United remain in a strong position as they look to lure him from Borussia Dortmund.\n",
            "One important thing to point out is that even in a typical summer window United have never had a net spend over £150million and it seems highly unlikely they will do so this year given the wider financial issues.\n",
            "In order to further reduce immediate expenditure United might need to get creative and in Tahith Chong they have a secret weapon when it comes to negotiations.\n"
          ],
          "name": "stdout"
        }
      ]
    },
    {
      "cell_type": "code",
      "metadata": {
        "id": "Gs6zEsihJjYg",
        "colab_type": "code",
        "colab": {
          "base_uri": "https://localhost:8080/",
          "height": 35
        },
        "outputId": "b934c96f-18ed-40fb-9d20-bd9c688b6ff7"
      },
      "source": [
        "# Create a TextBlob object\n",
        "obj = TextBlob(text)\n",
        "\n",
        "# This returns a sentiment value between -1 and 1(-1 - negative, 0 - neutral, 1 - positive)\n",
        "sentiment = obj.sentiment.polarity\n",
        "print(sentiment)"
      ],
      "execution_count": 6,
      "outputs": [
        {
          "output_type": "stream",
          "text": [
            "0.10833333333333332\n"
          ],
          "name": "stdout"
        }
      ]
    },
    {
      "cell_type": "code",
      "metadata": {
        "id": "609G0GltKl_5",
        "colab_type": "code",
        "colab": {
          "base_uri": "https://localhost:8080/",
          "height": 35
        },
        "outputId": "13be11cb-d4f3-4c8f-cd96-769de7541231"
      },
      "source": [
        "# Use a loop to print the polarity\n",
        "if sentiment == 0:\n",
        "  print('The text is neutral')\n",
        "elif sentiment > 0:\n",
        "  print('The text is positive')\n",
        "else:\n",
        "  print('The text is negative')\n"
      ],
      "execution_count": 7,
      "outputs": [
        {
          "output_type": "stream",
          "text": [
            "The text is positive\n"
          ],
          "name": "stdout"
        }
      ]
    },
    {
      "cell_type": "markdown",
      "metadata": {
        "id": "oWeGQC7ZLiAl",
        "colab_type": "text"
      },
      "source": [
        "In summary, we have scraped a news article, did some Natural Language Processing and have found the sentiment towards the transfer of Jadon Sancho to be positive(just)."
      ]
    }
  ]
}