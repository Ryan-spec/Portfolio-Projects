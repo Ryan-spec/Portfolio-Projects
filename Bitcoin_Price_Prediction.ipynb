{
  "nbformat": 4,
  "nbformat_minor": 0,
  "metadata": {
    "colab": {
      "name": "Bitcoin Price Prediction.ipynb",
      "provenance": [],
      "collapsed_sections": [],
      "authorship_tag": "ABX9TyMfZaxw1PpFgeS9rfKh68TB",
      "include_colab_link": true
    },
    "kernelspec": {
      "name": "python3",
      "display_name": "Python 3"
    }
  },
  "cells": [
    {
      "cell_type": "markdown",
      "metadata": {
        "id": "view-in-github",
        "colab_type": "text"
      },
      "source": [
        "<a href=\"https://colab.research.google.com/github/Ryan-spec/Portfolio-Projects/blob/master/Bitcoin_Price_Prediction.ipynb\" target=\"_parent\"><img src=\"https://colab.research.google.com/assets/colab-badge.svg\" alt=\"Open In Colab\"/></a>"
      ]
    },
    {
      "cell_type": "markdown",
      "metadata": {
        "id": "WH7-R-JmDEh6",
        "colab_type": "text"
      },
      "source": [
        "# Bitcoin Price Prediction using Machine Learning and Python\n",
        "\n"
      ]
    },
    {
      "cell_type": "code",
      "metadata": {
        "id": "8TEtsq7bC14F",
        "colab_type": "code",
        "colab": {}
      },
      "source": [
        "# Import the libraries needed\n",
        "\n",
        "import pandas as pd\n",
        "import numpy as np"
      ],
      "execution_count": 2,
      "outputs": []
    },
    {
      "cell_type": "code",
      "metadata": {
        "id": "8OZTOymTDk8m",
        "colab_type": "code",
        "colab": {
          "resources": {
            "http://localhost:8080/nbextensions/google.colab/files.js": {
              "data": "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",
              "ok": true,
              "headers": [
                [
                  "content-type",
                  "application/javascript"
                ]
              ],
              "status": 200,
              "status_text": ""
            }
          },
          "base_uri": "https://localhost:8080/",
          "height": 73
        },
        "outputId": "6ea0ba04-d30a-4899-a9a3-f18e8893a8f0"
      },
      "source": [
        "# Load the data\n",
        "from google.colab import files\n",
        "uploaded = files.upload()"
      ],
      "execution_count": 11,
      "outputs": [
        {
          "output_type": "display_data",
          "data": {
            "text/html": [
              "\n",
              "     <input type=\"file\" id=\"files-652a50e8-3187-44aa-9a55-e8a2a67ebc33\" name=\"files[]\" multiple disabled\n",
              "        style=\"border:none\" />\n",
              "     <output id=\"result-652a50e8-3187-44aa-9a55-e8a2a67ebc33\">\n",
              "      Upload widget is only available when the cell has been executed in the\n",
              "      current browser session. Please rerun this cell to enable.\n",
              "      </output>\n",
              "      <script src=\"/nbextensions/google.colab/files.js\"></script> "
            ],
            "text/plain": [
              "<IPython.core.display.HTML object>"
            ]
          },
          "metadata": {
            "tags": []
          }
        },
        {
          "output_type": "stream",
          "text": [
            "Saving datasets_4070_6338_bitcoinP.csv to datasets_4070_6338_bitcoinP.csv\n"
          ],
          "name": "stdout"
        }
      ]
    },
    {
      "cell_type": "code",
      "metadata": {
        "id": "rkPOzlZaD3k1",
        "colab_type": "code",
        "colab": {
          "base_uri": "https://localhost:8080/",
          "height": 202
        },
        "outputId": "8f180a54-d62b-4338-ef81-90576a163ac7"
      },
      "source": [
        "# Store the data into a dataframe and view the first few rows of data\n",
        "df = pd.read_csv('datasets_4070_6338_bitcoinP.csv')\n",
        "df.head()"
      ],
      "execution_count": 12,
      "outputs": [
        {
          "output_type": "execute_result",
          "data": {
            "text/html": [
              "<div>\n",
              "<style scoped>\n",
              "    .dataframe tbody tr th:only-of-type {\n",
              "        vertical-align: middle;\n",
              "    }\n",
              "\n",
              "    .dataframe tbody tr th {\n",
              "        vertical-align: top;\n",
              "    }\n",
              "\n",
              "    .dataframe thead th {\n",
              "        text-align: right;\n",
              "    }\n",
              "</style>\n",
              "<table border=\"1\" class=\"dataframe\">\n",
              "  <thead>\n",
              "    <tr style=\"text-align: right;\">\n",
              "      <th></th>\n",
              "      <th>Date</th>\n",
              "      <th>Close</th>\n",
              "    </tr>\n",
              "  </thead>\n",
              "  <tbody>\n",
              "    <tr>\n",
              "      <th>0</th>\n",
              "      <td>3-Oct-17</td>\n",
              "      <td>4317.48</td>\n",
              "    </tr>\n",
              "    <tr>\n",
              "      <th>1</th>\n",
              "      <td>2-Oct-17</td>\n",
              "      <td>4409.32</td>\n",
              "    </tr>\n",
              "    <tr>\n",
              "      <th>2</th>\n",
              "      <td>1-Oct-17</td>\n",
              "      <td>4403.74</td>\n",
              "    </tr>\n",
              "    <tr>\n",
              "      <th>3</th>\n",
              "      <td>30-Sep-17</td>\n",
              "      <td>4338.71</td>\n",
              "    </tr>\n",
              "    <tr>\n",
              "      <th>4</th>\n",
              "      <td>29-Sep-17</td>\n",
              "      <td>4163.07</td>\n",
              "    </tr>\n",
              "  </tbody>\n",
              "</table>\n",
              "</div>"
            ],
            "text/plain": [
              "        Date    Close\n",
              "0   3-Oct-17  4317.48\n",
              "1   2-Oct-17  4409.32\n",
              "2   1-Oct-17  4403.74\n",
              "3  30-Sep-17  4338.71\n",
              "4  29-Sep-17  4163.07"
            ]
          },
          "metadata": {
            "tags": []
          },
          "execution_count": 12
        }
      ]
    },
    {
      "cell_type": "code",
      "metadata": {
        "id": "Agm1CK1BG4xX",
        "colab_type": "code",
        "colab": {}
      },
      "source": [
        "# Remove the date column\n",
        "df.drop(['Date'], axis = 1, inplace=True)"
      ],
      "execution_count": 13,
      "outputs": []
    },
    {
      "cell_type": "code",
      "metadata": {
        "id": "uGaHskpQLGvt",
        "colab_type": "code",
        "colab": {
          "base_uri": "https://localhost:8080/",
          "height": 202
        },
        "outputId": "f3b48b88-a8cb-436e-e498-f3eda14fde7f"
      },
      "source": [
        "df.head()"
      ],
      "execution_count": 14,
      "outputs": [
        {
          "output_type": "execute_result",
          "data": {
            "text/html": [
              "<div>\n",
              "<style scoped>\n",
              "    .dataframe tbody tr th:only-of-type {\n",
              "        vertical-align: middle;\n",
              "    }\n",
              "\n",
              "    .dataframe tbody tr th {\n",
              "        vertical-align: top;\n",
              "    }\n",
              "\n",
              "    .dataframe thead th {\n",
              "        text-align: right;\n",
              "    }\n",
              "</style>\n",
              "<table border=\"1\" class=\"dataframe\">\n",
              "  <thead>\n",
              "    <tr style=\"text-align: right;\">\n",
              "      <th></th>\n",
              "      <th>Close</th>\n",
              "    </tr>\n",
              "  </thead>\n",
              "  <tbody>\n",
              "    <tr>\n",
              "      <th>0</th>\n",
              "      <td>4317.48</td>\n",
              "    </tr>\n",
              "    <tr>\n",
              "      <th>1</th>\n",
              "      <td>4409.32</td>\n",
              "    </tr>\n",
              "    <tr>\n",
              "      <th>2</th>\n",
              "      <td>4403.74</td>\n",
              "    </tr>\n",
              "    <tr>\n",
              "      <th>3</th>\n",
              "      <td>4338.71</td>\n",
              "    </tr>\n",
              "    <tr>\n",
              "      <th>4</th>\n",
              "      <td>4163.07</td>\n",
              "    </tr>\n",
              "  </tbody>\n",
              "</table>\n",
              "</div>"
            ],
            "text/plain": [
              "     Close\n",
              "0  4317.48\n",
              "1  4409.32\n",
              "2  4403.74\n",
              "3  4338.71\n",
              "4  4163.07"
            ]
          },
          "metadata": {
            "tags": []
          },
          "execution_count": 14
        }
      ]
    },
    {
      "cell_type": "code",
      "metadata": {
        "id": "upkREKATLIx9",
        "colab_type": "code",
        "colab": {}
      },
      "source": [
        "# Variable for predicting 'n' days into the future\n",
        "pred_days = 30 # 'n'= pred_days = 30\n",
        "\n",
        "# Create another column shifted 'n' units up\n",
        "df['Prediction'] = df[['Close']].shift(-pred_days)"
      ],
      "execution_count": 15,
      "outputs": []
    },
    {
      "cell_type": "code",
      "metadata": {
        "id": "MA_ts4JzMPqH",
        "colab_type": "code",
        "colab": {
          "base_uri": "https://localhost:8080/",
          "height": 202
        },
        "outputId": "7da4611b-cf5b-468d-c300-15d38cedb551"
      },
      "source": [
        "# Show the first 5 rows of the new dataset\n",
        "df.head()  "
      ],
      "execution_count": 16,
      "outputs": [
        {
          "output_type": "execute_result",
          "data": {
            "text/html": [
              "<div>\n",
              "<style scoped>\n",
              "    .dataframe tbody tr th:only-of-type {\n",
              "        vertical-align: middle;\n",
              "    }\n",
              "\n",
              "    .dataframe tbody tr th {\n",
              "        vertical-align: top;\n",
              "    }\n",
              "\n",
              "    .dataframe thead th {\n",
              "        text-align: right;\n",
              "    }\n",
              "</style>\n",
              "<table border=\"1\" class=\"dataframe\">\n",
              "  <thead>\n",
              "    <tr style=\"text-align: right;\">\n",
              "      <th></th>\n",
              "      <th>Close</th>\n",
              "      <th>Prediction</th>\n",
              "    </tr>\n",
              "  </thead>\n",
              "  <tbody>\n",
              "    <tr>\n",
              "      <th>0</th>\n",
              "      <td>4317.48</td>\n",
              "      <td>4582.96</td>\n",
              "    </tr>\n",
              "    <tr>\n",
              "      <th>1</th>\n",
              "      <td>4409.32</td>\n",
              "      <td>4578.77</td>\n",
              "    </tr>\n",
              "    <tr>\n",
              "      <th>2</th>\n",
              "      <td>4403.74</td>\n",
              "      <td>4892.01</td>\n",
              "    </tr>\n",
              "    <tr>\n",
              "      <th>3</th>\n",
              "      <td>4338.71</td>\n",
              "      <td>4703.39</td>\n",
              "    </tr>\n",
              "    <tr>\n",
              "      <th>4</th>\n",
              "      <td>4163.07</td>\n",
              "      <td>4565.30</td>\n",
              "    </tr>\n",
              "  </tbody>\n",
              "</table>\n",
              "</div>"
            ],
            "text/plain": [
              "     Close  Prediction\n",
              "0  4317.48     4582.96\n",
              "1  4409.32     4578.77\n",
              "2  4403.74     4892.01\n",
              "3  4338.71     4703.39\n",
              "4  4163.07     4565.30"
            ]
          },
          "metadata": {
            "tags": []
          },
          "execution_count": 16
        }
      ]
    },
    {
      "cell_type": "code",
      "metadata": {
        "id": "HaudCf8KMdiU",
        "colab_type": "code",
        "colab": {
          "base_uri": "https://localhost:8080/",
          "height": 202
        },
        "outputId": "f9b29367-a7ec-4a45-adaf-3c1a8d74f68f"
      },
      "source": [
        "# Show the last 5 rows \n",
        "df.tail()"
      ],
      "execution_count": 17,
      "outputs": [
        {
          "output_type": "execute_result",
          "data": {
            "text/html": [
              "<div>\n",
              "<style scoped>\n",
              "    .dataframe tbody tr th:only-of-type {\n",
              "        vertical-align: middle;\n",
              "    }\n",
              "\n",
              "    .dataframe tbody tr th {\n",
              "        vertical-align: top;\n",
              "    }\n",
              "\n",
              "    .dataframe thead th {\n",
              "        text-align: right;\n",
              "    }\n",
              "</style>\n",
              "<table border=\"1\" class=\"dataframe\">\n",
              "  <thead>\n",
              "    <tr style=\"text-align: right;\">\n",
              "      <th></th>\n",
              "      <th>Close</th>\n",
              "      <th>Prediction</th>\n",
              "    </tr>\n",
              "  </thead>\n",
              "  <tbody>\n",
              "    <tr>\n",
              "      <th>1615</th>\n",
              "      <td>105.21</td>\n",
              "      <td>NaN</td>\n",
              "    </tr>\n",
              "    <tr>\n",
              "      <th>1616</th>\n",
              "      <td>116.99</td>\n",
              "      <td>NaN</td>\n",
              "    </tr>\n",
              "    <tr>\n",
              "      <th>1617</th>\n",
              "      <td>139.00</td>\n",
              "      <td>NaN</td>\n",
              "    </tr>\n",
              "    <tr>\n",
              "      <th>1618</th>\n",
              "      <td>144.54</td>\n",
              "      <td>NaN</td>\n",
              "    </tr>\n",
              "    <tr>\n",
              "      <th>1619</th>\n",
              "      <td>134.21</td>\n",
              "      <td>NaN</td>\n",
              "    </tr>\n",
              "  </tbody>\n",
              "</table>\n",
              "</div>"
            ],
            "text/plain": [
              "       Close  Prediction\n",
              "1615  105.21         NaN\n",
              "1616  116.99         NaN\n",
              "1617  139.00         NaN\n",
              "1618  144.54         NaN\n",
              "1619  134.21         NaN"
            ]
          },
          "metadata": {
            "tags": []
          },
          "execution_count": 17
        }
      ]
    },
    {
      "cell_type": "code",
      "metadata": {
        "id": "p_iSUhQwMuvn",
        "colab_type": "code",
        "colab": {
          "base_uri": "https://localhost:8080/",
          "height": 139
        },
        "outputId": "0e153e4d-4a30-4f79-fee0-ac28f86764ba"
      },
      "source": [
        "# Create the independent dataset\n",
        "\n",
        "# Convert the dataframe to a numpy array and drop the predictin column\n",
        "X = np.array(df.drop(['Prediction'], axis=1))\n",
        "\n",
        "# Remove the last 'n' rows where 'n' is the pred_days\n",
        "X = X[:len(df)-pred_days]\n",
        "\n",
        "print(X)"
      ],
      "execution_count": 18,
      "outputs": [
        {
          "output_type": "stream",
          "text": [
            "[[4317.48]\n",
            " [4409.32]\n",
            " [4403.74]\n",
            " ...\n",
            " [ 128.8 ]\n",
            " [ 132.3 ]\n",
            " [ 129.  ]]\n"
          ],
          "name": "stdout"
        }
      ]
    },
    {
      "cell_type": "code",
      "metadata": {
        "id": "GwgZ257uN4hv",
        "colab_type": "code",
        "colab": {
          "base_uri": "https://localhost:8080/",
          "height": 35
        },
        "outputId": "b388baf4-4448-4bc3-f09f-96634e30fd99"
      },
      "source": [
        "# Create the dependent dataset\n",
        "\n",
        "# Convert the dataframe to a numpy array\n",
        "y = np.array(df['Prediction'])\n",
        "\n",
        "# Get all the values except the last 'n' rows\n",
        "y = y[:-pred_days]\n",
        "print(y)"
      ],
      "execution_count": 20,
      "outputs": [
        {
          "output_type": "stream",
          "text": [
            "[4582.96 4578.77 4892.01 ...  139.    144.54  134.21]\n"
          ],
          "name": "stdout"
        }
      ]
    },
    {
      "cell_type": "code",
      "metadata": {
        "id": "b625aEbLOgv_",
        "colab_type": "code",
        "colab": {}
      },
      "source": [
        "# Split the data into 80% training and 20% testing \n",
        "from sklearn.model_selection import train_test_split\n",
        "x_train, x_test, y_train, y_test = train_test_split(X, y, test_size=0.2)"
      ],
      "execution_count": 21,
      "outputs": []
    },
    {
      "cell_type": "code",
      "metadata": {
        "id": "A1IhncsYPJ-y",
        "colab_type": "code",
        "colab": {
          "base_uri": "https://localhost:8080/",
          "height": 537
        },
        "outputId": "6c7c619c-4c51-47d3-8afc-97ed6393cb70"
      },
      "source": [
        "# Set the pred_days_array = to the last 30 rows from the original dataset\n",
        "pred_days_array = np.array(df.drop(['Prediction'], axis=1))[-pred_days:]\n",
        "print(pred_days_array)"
      ],
      "execution_count": 22,
      "outputs": [
        {
          "output_type": "stream",
          "text": [
            "[[129.75]\n",
            " [133.48]\n",
            " [131.98]\n",
            " [133.2 ]\n",
            " [126.7 ]\n",
            " [123.89]\n",
            " [122.88]\n",
            " [122.  ]\n",
            " [121.99]\n",
            " [123.5 ]\n",
            " [123.02]\n",
            " [118.76]\n",
            " [114.22]\n",
            " [111.5 ]\n",
            " [117.98]\n",
            " [115.  ]\n",
            " [115.24]\n",
            " [117.2 ]\n",
            " [112.67]\n",
            " [113.57]\n",
            " [111.5 ]\n",
            " [112.3 ]\n",
            " [115.91]\n",
            " [112.5 ]\n",
            " [ 97.75]\n",
            " [105.21]\n",
            " [116.99]\n",
            " [139.  ]\n",
            " [144.54]\n",
            " [134.21]]\n"
          ],
          "name": "stdout"
        }
      ]
    },
    {
      "cell_type": "code",
      "metadata": {
        "id": "bCYnbDFNPxfT",
        "colab_type": "code",
        "colab": {
          "base_uri": "https://localhost:8080/",
          "height": 52
        },
        "outputId": "cfd0d4b6-1aa0-4793-c14c-5b58d6c43759"
      },
      "source": [
        "# Use SVM to create and train or model\n",
        "\n",
        "from sklearn.svm import SVR\n",
        "\n",
        "# Create and train the SVM(Regression) using the Radio Basis Function\n",
        "svr_rbf = SVR(kernel = 'rbf', C = 1e3, gamma = 0.00001)\n",
        "svr_rbf.fit(x_train, y_train)"
      ],
      "execution_count": 23,
      "outputs": [
        {
          "output_type": "execute_result",
          "data": {
            "text/plain": [
              "SVR(C=1000.0, cache_size=200, coef0=0.0, degree=3, epsilon=0.1, gamma=1e-05,\n",
              "    kernel='rbf', max_iter=-1, shrinking=True, tol=0.001, verbose=False)"
            ]
          },
          "metadata": {
            "tags": []
          },
          "execution_count": 23
        }
      ]
    },
    {
      "cell_type": "code",
      "metadata": {
        "id": "nH0BwtjWQ5gl",
        "colab_type": "code",
        "colab": {
          "base_uri": "https://localhost:8080/",
          "height": 35
        },
        "outputId": "15d46cce-95d0-4210-c706-215bd67f8a77"
      },
      "source": [
        "# Test model accuracy\n",
        "\n",
        "svr_rbf_accuracy = svr_rbf.score(x_test, y_test)\n",
        "print('svr_rbf accuracy:',svr_rbf_accuracy)"
      ],
      "execution_count": 24,
      "outputs": [
        {
          "output_type": "stream",
          "text": [
            "svr_rbf accuracy: 0.8668362484080572\n"
          ],
          "name": "stdout"
        }
      ]
    },
    {
      "cell_type": "code",
      "metadata": {
        "id": "tt0FMfs9Rb6V",
        "colab_type": "code",
        "colab": {
          "base_uri": "https://localhost:8080/",
          "height": 1000
        },
        "outputId": "55f9673e-8dd4-4e9c-808c-4750c3f00bca"
      },
      "source": [
        "# Print the predicted values \n",
        "svm_pred = svr_rbf.predict(x_test)\n",
        "print(svm_pred)\n",
        "\n",
        "print()\n",
        "\n",
        "# Print the actual values\n",
        "print(y_test)"
      ],
      "execution_count": 26,
      "outputs": [
        {
          "output_type": "stream",
          "text": [
            "[ 119.31514524  966.2570781   233.18545374  353.77839805  729.61047313\n",
            "  683.1520687   106.20432837  380.66894391  574.48194373  103.86378726\n",
            "  681.42597561  437.77507754  441.86539468  602.35365756  232.18262154\n",
            "  278.3990199   611.15640248  247.80102002  622.8227039  1020.03494228\n",
            " 1344.43543739  466.61805621 2251.97988988  609.19722346  997.51470603\n",
            "  108.35514031  234.13292296  749.22644287  286.08591972  936.2900644\n",
            "  420.87703978  603.16479806  413.93271641  500.9409265   579.05150396\n",
            "  242.58419115  399.26053024  613.26098092  379.69567391  242.56297369\n",
            " 1155.41775328  567.56055069  421.59976514 2149.31509059  239.65952958\n",
            "  123.11355626  281.16191676  986.92950544  202.51936684  373.31912792\n",
            "  882.01998284  639.8021766   369.73709083  878.62371075  276.09710512\n",
            " 1887.07638473  348.64114881  330.22102674  369.32765351  111.23282795\n",
            "  421.63365302 1709.09878822  581.02646741  365.70811933  446.07085341\n",
            "  212.34265869  316.39589851  397.77434148  584.3865241   581.80385302\n",
            "  677.47909534  422.24378719  127.87037483  673.47585865  575.83041588\n",
            "  241.53299589  534.14783531  340.90581683  697.00845632 2293.73169727\n",
            "  239.90469608  734.42050358  835.68619364  587.82517292  413.83175913\n",
            "  375.86126786  690.78161279  642.51649049  119.59259118  219.70469995\n",
            "  322.81976047  387.82995934  470.12925096  369.65307954 2134.78075802\n",
            "  618.26209209  811.53369814  122.5710277   913.75145771  275.49538135\n",
            " 2237.86311367  732.64257942  307.17208915  225.75255581  384.58889644\n",
            "  598.31336634 2149.52818056  423.29523529  573.58872914  418.40721441\n",
            "  362.92033874 2172.10741203 4134.63908021  618.54089449  579.72938391\n",
            " 2138.90355661  617.39720723  338.03678446  682.81164861  118.88485208\n",
            "  949.87219932  586.21780629  417.54008178  623.06561062  227.36297211\n",
            "  712.06069237  723.98008229  671.70840668  520.77583157  409.88044799\n",
            "  215.74401959  623.14824865  602.32294585  585.51864107 1549.30648201\n",
            "  426.48827104  263.09709678  389.71758197  832.45289147  103.10009727\n",
            "  332.44846276  521.59289697  654.45464953  290.7674355   452.81311961\n",
            "  485.82658939  461.15932601  963.52777794  458.56318306  163.15858274\n",
            "  420.84317225  413.58501843  590.83375582  348.57023533 3760.02610748\n",
            "  249.61669122  265.87380688  237.96191721  425.7516845   366.07320737\n",
            "  270.08592794  223.9857236   106.11077844  417.43877282  326.19433125\n",
            "  415.6168402   220.31921993  617.56054407  421.50940186  624.16153522\n",
            "  633.07353991  990.5176165   116.30107436  450.14939658  233.15312876\n",
            "  991.607344    997.18693995  585.16101206  402.07613442  248.65186004\n",
            "  411.14347938  600.40858867  281.72924544  583.48817398  379.10821835\n",
            "  237.52338826  498.70226467  887.82761628  354.09516221  653.92960066\n",
            "  462.66493085  576.02443062  595.37769674  444.91980584  621.35975101\n",
            "  611.55418613  281.8088386   582.51244337  440.71440453  364.84327723\n",
            " 2757.23889208  254.72774393  493.97998787 1181.36133534  435.46367005\n",
            "  233.84237274  216.10778364  805.9836326   106.20432837  961.01393204\n",
            " 1048.67844611  127.21795163  602.65525403  662.30433516  234.89632266\n",
            "  593.33861593  822.58923862  375.11864207  919.44586803  666.01133666\n",
            " 2795.16059408  105.66028007  278.21913249  231.94516444  108.21681382\n",
            "  581.08990828 1087.88956093  512.09512163  335.09877227  450.46824411\n",
            " 2082.69757261 2334.40422481 1507.59846086  822.75677438  822.91586071\n",
            "  334.72107996  678.93001494  595.30676076  423.41965413  605.41900062\n",
            " 2293.74597959  635.20364975  313.78261968  379.31109065  417.38249411\n",
            "  118.52160114  601.56294656  189.38608188  224.78240757  438.53824235\n",
            "  536.21578651  595.93253982  584.52114765  593.39428752  267.22686268\n",
            "  925.08720894  464.428598    583.11647859  354.1667127   227.2325331\n",
            "  242.8175319   286.06611986  885.71664016  103.79854466 4098.84948323\n",
            "  570.66390788  658.61514476  620.6981407   232.26894803  571.8131846\n",
            "  915.1388451   425.40051233  742.98506809  331.82425206  230.72413746\n",
            "  220.77981537  439.22177132 2760.88074316  606.27208884  321.21896165\n",
            "  978.5914995   121.981463    865.27047658  122.76142433  704.89048143\n",
            "  378.0522905   398.51154248  347.86153211 1980.67761138  244.65972693\n",
            "  666.57855102  602.76752874  418.46354488  790.95456885  203.34286139\n",
            "  289.55461861  256.36593882  323.66505625  977.94695815  637.76397961\n",
            " 2776.27794572  286.87757474  292.79583959  688.79954446 2151.70462357\n",
            "  779.42507264  262.72861025 1032.00935306  751.75395486  974.49900365\n",
            " 3507.660577    619.09394349  342.87163806  901.43223146  615.88877422\n",
            "  587.38738112  617.97855119 1961.67327301]\n",
            "\n",
            "[ 123.3   204.    230.3   304.62 1151.17  711.52   88.98  457.33  606.27\n",
            "  128.8   928.1   368.77  435.51  610.86  253.18  269.03  630.23  230.64\n",
            "  666.65  999.18 1231.71  629.15 2480.84  609.24 1004.55  112.67  229.78\n",
            "  691.96  227.75 1251.01  438.64  676.3   628.8   495.77  571.59  240.11\n",
            "  477.89  667.61  408.9   237.47 1176.9   819.03  421.65 1839.09  240.95\n",
            "  138.34  258.62  892.69  317.84  339.49  823.98  296.41  447.61  907.68\n",
            "  270.79 1452.82  399.52  367.57  433.44  135.85  410.94 2958.11  635.81\n",
            "  330.49  323.05  267.8   483.34  507.81  182.21  630.69  729.79  400.57\n",
            "  134.98  657.07  452.73  239.84  500.46  386.94  705.02 2744.91  233.41\n",
            "  781.48 1117.44  568.18  376.62  325.75  703.24  619.11  121.15  239.02\n",
            "  387.88  479.    334.59  243.93 1555.45  623.98  770.81  119.   1143.84\n",
            "  245.21 2515.35  665.58  245.31  289.59  391.44  447.64 2732.16  380.15\n",
            "  845.59  437.75  362.3  2478.45 4001.74  449.46  605.42 2705.41  602.63\n",
            "  135.19  442.68  106.75 1274.99  597.26  352.68  823.83  322.53  177.32\n",
            "  745.05  454.62  585.69  422.37  294.34  737.23  870.2   666.52 2589.6\n",
            "  414.06  244.53  422.82  829.45  109.5   247.05  622.21  618.99  219.84\n",
            "  416.73  546.66  423.73 1272.83  466.09  127.04  145.24  420.79  582.36\n",
            "  358.42 4193.7   327.92  231.21  253.83  392.15  433.09  244.61  287.72\n",
            "  131.98  424.95  320.51  373.37  320.19  665.12  420.23  832.58  457.57\n",
            "  901.54  101.2   458.56  281.08  994.38 1175.83  647.66  238.26  236.43\n",
            "  511.57  577.36  271.91  616.76  463.62  243.61  585.44  831.53  423.2\n",
            "  193.76  565.61  651.78  575.63  413.31  860.9   606.97  234.34  649.36\n",
            "  378.25  434.33 4892.01  222.93  623.9  1187.87  388.95  236.46  261.75\n",
            "  768.13   76.69 1047.87 1026.43  133.49  457.76  688.31  261.    573.91\n",
            "  973.5   477.75  899.07  612.13 2809.01  129.    226.97  226.39   96.61\n",
            "  458.54 1080.5   595.81  330.08  479.64 1490.09 1888.65 1321.79  864.54\n",
            "  744.59  130.59  703.42  575.47  411.62  811.91 2511.81  604.73  380.56\n",
            "  442.4   376.03  105.    602.27  134.78  265.68  508.29  622.37  575.54\n",
            "  650.96  703.7   228.49  902.83  417.18  626.6   435.79  231.4   275.67\n",
            "  257.06  804.83   99.98 4151.52  655.03  610.89  437.76  225.85  461.45\n",
            "  895.03  432.52  876.12  482.28  232.88  274.47  495.67 2895.89  608.31\n",
            "  237.29  229.1   127.11  735.81  113.5   740.98  325.89  387.54  363.26\n",
            " 2434.55  231.95  678.3   594.15  438.8   735.07  273.61  229.71  226.43\n",
            "  368.37 1038.15  454.16 3419.94  346.37  126.   1043.33 2601.64  420.2\n",
            "  292.05 1042.9   893.19 1255.15 2273.43  596.3   411.57  902.2   596.12\n",
            "  581.14  440.17 4181.93]\n"
          ],
          "name": "stdout"
        }
      ]
    },
    {
      "cell_type": "code",
      "metadata": {
        "id": "IJODHBd4R0yH",
        "colab_type": "code",
        "colab": {
          "base_uri": "https://localhost:8080/",
          "height": 121
        },
        "outputId": "6abfdfbb-02c7-403d-8137-25ead12dd568"
      },
      "source": [
        "# Print the model for the next 'n=30' days\n",
        "svm_pred = svr_rbf.predict(pred_days_array)\n",
        "print(svm_pred)"
      ],
      "execution_count": 27,
      "outputs": [
        {
          "output_type": "stream",
          "text": [
            "[121.28006913 124.12118424 122.96016937 123.90261377 119.07475654\n",
            " 117.14210902 116.47157675 115.89801293 115.89155279 116.88165279\n",
            " 116.5637452  113.87415494 111.28125059 109.87071705 113.40809976\n",
            " 111.70585116 111.83826944 112.95045868 110.46395131 110.93419785\n",
            " 109.87071705 110.27412401 112.21231521 110.37647914 104.54144309\n",
            " 107.04524239 112.82869779 128.59593054 133.38162204 124.6949624 ]\n"
          ],
          "name": "stdout"
        }
      ]
    },
    {
      "cell_type": "code",
      "metadata": {
        "id": "nlpezDhGTNgK",
        "colab_type": "code",
        "colab": {
          "base_uri": "https://localhost:8080/",
          "height": 555
        },
        "outputId": "43a38b0d-f267-42c0-cc16-bf0200308cda"
      },
      "source": [
        "# Print the actual values for the last 30 days\n",
        "print (df.tail(pred_days))"
      ],
      "execution_count": 28,
      "outputs": [
        {
          "output_type": "stream",
          "text": [
            "       Close  Prediction\n",
            "1590  129.75         NaN\n",
            "1591  133.48         NaN\n",
            "1592  131.98         NaN\n",
            "1593  133.20         NaN\n",
            "1594  126.70         NaN\n",
            "1595  123.89         NaN\n",
            "1596  122.88         NaN\n",
            "1597  122.00         NaN\n",
            "1598  121.99         NaN\n",
            "1599  123.50         NaN\n",
            "1600  123.02         NaN\n",
            "1601  118.76         NaN\n",
            "1602  114.22         NaN\n",
            "1603  111.50         NaN\n",
            "1604  117.98         NaN\n",
            "1605  115.00         NaN\n",
            "1606  115.24         NaN\n",
            "1607  117.20         NaN\n",
            "1608  112.67         NaN\n",
            "1609  113.57         NaN\n",
            "1610  111.50         NaN\n",
            "1611  112.30         NaN\n",
            "1612  115.91         NaN\n",
            "1613  112.50         NaN\n",
            "1614   97.75         NaN\n",
            "1615  105.21         NaN\n",
            "1616  116.99         NaN\n",
            "1617  139.00         NaN\n",
            "1618  144.54         NaN\n",
            "1619  134.21         NaN\n"
          ],
          "name": "stdout"
        }
      ]
    },
    {
      "cell_type": "markdown",
      "metadata": {
        "id": "5zYjuPT-USvq",
        "colab_type": "text"
      },
      "source": [
        "### Our model has in fact proven to be 86% accurate as can be seen above."
      ]
    },
    {
      "cell_type": "code",
      "metadata": {
        "id": "eLKn2mDMUgnh",
        "colab_type": "code",
        "colab": {}
      },
      "source": [
        ""
      ],
      "execution_count": null,
      "outputs": []
    }
  ]
}